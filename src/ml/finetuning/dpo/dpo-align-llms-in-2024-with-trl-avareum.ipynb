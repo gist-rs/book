{
 "cells": [
  {
   "attachments": {},
   "cell_type": "markdown",
   "metadata": {},
   "source": [
    "# RLHF in 2024 with DPO & Hugging Face\n",
    "\n",
    "This blog post walks you through how to use DPO to improve open LLMs using Hugging Face [TRL](https://huggingface.co/docs/trl/index), [Transformers](https://huggingface.co/docs/transformers/index) & [datasets](https://huggingface.co/docs/datasets/index) in 2024. \n",
    "\n",
    "Research and experiments suggest that DPO should only be applied after SFT. This means we need an already fine-tuned LLM, which can be aligned with DPO. In this example we will use [cognitivecomputations/dolphin-2.1-mistral-7b](https://huggingface.co/cognitivecomputations/dolphin-2.1-mistral-7b) a fine-tuned Mistral 7B with ChatML template. \n",
    "\n",
    "1. Setup development environment\n",
    "2. Create and prepare the preference dataset\n",
    "3. Align LLM with TRL and the DPOTrainer\n",
    "4. Test LLM (vibe-check)\n",
    "5. Evaluate open LLMs on MT-Bench\n",
    "\n",
    "\n",
    "_Note: This example is designed to be an introduction to DPO and TRL. It is build for a single GPU environment to guide you through the process. For production use, you should consider using a distributed environment. It should be possible to run the example on a single GPU with at least 24GB of memory by reducing the training arguments, with batch size, max seq length and run evaluation after the training._"
   ]
  },
  {
   "cell_type": "markdown",
   "metadata": {},
   "source": [
    "## 1. Setup development environment\n",
    "\n",
    "Our first step is to install Hugging Face Libraries and Pytorch, including trl, transformers and datasets. If you haven't heard of trl yet, don't worry. It is a new library on top of transformers and datasets, which makes it easier to fine-tune, rlhf, align open LLMs."
   ]
  },
  {
   "cell_type": "code",
   "execution_count": 1,
   "metadata": {},
   "outputs": [
    {
     "name": "stdout",
     "output_type": "stream",
     "text": [
      "Requirement already satisfied: transformers[sentencepiece]==4.37.2 in ./.venv/lib/python3.10/site-packages (4.37.2)\n",
      "Requirement already satisfied: datasets==2.16.1 in ./.venv/lib/python3.10/site-packages (2.16.1)\n",
      "Requirement already satisfied: accelerate==0.26.1 in ./.venv/lib/python3.10/site-packages (0.26.1)\n",
      "Requirement already satisfied: evaluate==0.4.1 in ./.venv/lib/python3.10/site-packages (0.4.1)\n",
      "Requirement already satisfied: bitsandbytes==0.42.0 in ./.venv/lib/python3.10/site-packages (0.42.0)\n",
      "Requirement already satisfied: trl==0.7.11 in ./.venv/lib/python3.10/site-packages (0.7.11)\n",
      "Requirement already satisfied: peft==0.8.2 in ./.venv/lib/python3.10/site-packages (0.8.2)\n",
      "Requirement already satisfied: pillow in ./.venv/lib/python3.10/site-packages (10.2.0)\n",
      "Requirement already satisfied: openai in ./.venv/lib/python3.10/site-packages (1.13.3)\n",
      "Requirement already satisfied: tensorboardX in ./.venv/lib/python3.10/site-packages (2.6.2.2)\n",
      "Requirement already satisfied: huggingface-hub<1.0,>=0.19.3 in ./.venv/lib/python3.10/site-packages (from transformers[sentencepiece]==4.37.2) (0.21.4)\n",
      "Requirement already satisfied: safetensors>=0.4.1 in ./.venv/lib/python3.10/site-packages (from transformers[sentencepiece]==4.37.2) (0.4.2)\n",
      "Requirement already satisfied: packaging>=20.0 in ./.venv/lib/python3.10/site-packages (from transformers[sentencepiece]==4.37.2) (23.2)\n",
      "Requirement already satisfied: numpy>=1.17 in ./.venv/lib/python3.10/site-packages (from transformers[sentencepiece]==4.37.2) (1.26.4)\n",
      "Requirement already satisfied: pyyaml>=5.1 in ./.venv/lib/python3.10/site-packages (from transformers[sentencepiece]==4.37.2) (6.0.1)\n",
      "Requirement already satisfied: regex!=2019.12.17 in ./.venv/lib/python3.10/site-packages (from transformers[sentencepiece]==4.37.2) (2023.12.25)\n",
      "Requirement already satisfied: filelock in ./.venv/lib/python3.10/site-packages (from transformers[sentencepiece]==4.37.2) (3.13.1)\n",
      "Requirement already satisfied: tqdm>=4.27 in ./.venv/lib/python3.10/site-packages (from transformers[sentencepiece]==4.37.2) (4.66.2)\n",
      "Requirement already satisfied: requests in ./.venv/lib/python3.10/site-packages (from transformers[sentencepiece]==4.37.2) (2.31.0)\n",
      "Requirement already satisfied: tokenizers<0.19,>=0.14 in ./.venv/lib/python3.10/site-packages (from transformers[sentencepiece]==4.37.2) (0.15.2)\n",
      "Requirement already satisfied: sentencepiece!=0.1.92,>=0.1.91 in ./.venv/lib/python3.10/site-packages (from transformers[sentencepiece]==4.37.2) (0.2.0)\n",
      "Requirement already satisfied: protobuf in ./.venv/lib/python3.10/site-packages (from transformers[sentencepiece]==4.37.2) (4.25.3)\n",
      "Requirement already satisfied: fsspec[http]<=2023.10.0,>=2023.1.0 in ./.venv/lib/python3.10/site-packages (from datasets==2.16.1) (2023.10.0)\n",
      "Requirement already satisfied: xxhash in ./.venv/lib/python3.10/site-packages (from datasets==2.16.1) (3.4.1)\n",
      "Requirement already satisfied: dill<0.3.8,>=0.3.0 in ./.venv/lib/python3.10/site-packages (from datasets==2.16.1) (0.3.7)\n",
      "Requirement already satisfied: pyarrow-hotfix in ./.venv/lib/python3.10/site-packages (from datasets==2.16.1) (0.6)\n",
      "Requirement already satisfied: pandas in ./.venv/lib/python3.10/site-packages (from datasets==2.16.1) (2.2.1)\n",
      "Requirement already satisfied: multiprocess in ./.venv/lib/python3.10/site-packages (from datasets==2.16.1) (0.70.15)\n",
      "Requirement already satisfied: pyarrow>=8.0.0 in ./.venv/lib/python3.10/site-packages (from datasets==2.16.1) (15.0.0)\n",
      "Requirement already satisfied: aiohttp in ./.venv/lib/python3.10/site-packages (from datasets==2.16.1) (3.9.3)\n",
      "Requirement already satisfied: torch>=1.10.0 in ./.venv/lib/python3.10/site-packages (from accelerate==0.26.1) (2.2.1)\n",
      "Requirement already satisfied: psutil in ./.venv/lib/python3.10/site-packages (from accelerate==0.26.1) (5.9.8)\n",
      "Requirement already satisfied: responses<0.19 in ./.venv/lib/python3.10/site-packages (from evaluate==0.4.1) (0.18.0)\n",
      "Requirement already satisfied: scipy in ./.venv/lib/python3.10/site-packages (from bitsandbytes==0.42.0) (1.12.0)\n",
      "Requirement already satisfied: tyro>=0.5.11 in ./.venv/lib/python3.10/site-packages (from trl==0.7.11) (0.7.3)\n",
      "Requirement already satisfied: anyio<5,>=3.5.0 in ./.venv/lib/python3.10/site-packages (from openai) (4.3.0)\n",
      "Requirement already satisfied: sniffio in ./.venv/lib/python3.10/site-packages (from openai) (1.3.1)\n",
      "Requirement already satisfied: distro<2,>=1.7.0 in ./.venv/lib/python3.10/site-packages (from openai) (1.9.0)\n",
      "Requirement already satisfied: typing-extensions<5,>=4.7 in ./.venv/lib/python3.10/site-packages (from openai) (4.10.0)\n",
      "Requirement already satisfied: pydantic<3,>=1.9.0 in ./.venv/lib/python3.10/site-packages (from openai) (2.6.3)\n",
      "Requirement already satisfied: httpx<1,>=0.23.0 in ./.venv/lib/python3.10/site-packages (from openai) (0.27.0)\n",
      "Requirement already satisfied: idna>=2.8 in ./.venv/lib/python3.10/site-packages (from anyio<5,>=3.5.0->openai) (3.6)\n",
      "Requirement already satisfied: exceptiongroup>=1.0.2 in ./.venv/lib/python3.10/site-packages (from anyio<5,>=3.5.0->openai) (1.2.0)\n",
      "Requirement already satisfied: attrs>=17.3.0 in ./.venv/lib/python3.10/site-packages (from aiohttp->datasets==2.16.1) (23.2.0)\n",
      "Requirement already satisfied: yarl<2.0,>=1.0 in ./.venv/lib/python3.10/site-packages (from aiohttp->datasets==2.16.1) (1.9.4)\n",
      "Requirement already satisfied: frozenlist>=1.1.1 in ./.venv/lib/python3.10/site-packages (from aiohttp->datasets==2.16.1) (1.4.1)\n",
      "Requirement already satisfied: aiosignal>=1.1.2 in ./.venv/lib/python3.10/site-packages (from aiohttp->datasets==2.16.1) (1.3.1)\n",
      "Requirement already satisfied: async-timeout<5.0,>=4.0 in ./.venv/lib/python3.10/site-packages (from aiohttp->datasets==2.16.1) (4.0.3)\n",
      "Requirement already satisfied: multidict<7.0,>=4.5 in ./.venv/lib/python3.10/site-packages (from aiohttp->datasets==2.16.1) (6.0.5)\n",
      "Requirement already satisfied: httpcore==1.* in ./.venv/lib/python3.10/site-packages (from httpx<1,>=0.23.0->openai) (1.0.4)\n",
      "Requirement already satisfied: certifi in ./.venv/lib/python3.10/site-packages (from httpx<1,>=0.23.0->openai) (2024.2.2)\n",
      "Requirement already satisfied: h11<0.15,>=0.13 in ./.venv/lib/python3.10/site-packages (from httpcore==1.*->httpx<1,>=0.23.0->openai) (0.14.0)\n",
      "Requirement already satisfied: annotated-types>=0.4.0 in ./.venv/lib/python3.10/site-packages (from pydantic<3,>=1.9.0->openai) (0.6.0)\n",
      "Requirement already satisfied: pydantic-core==2.16.3 in ./.venv/lib/python3.10/site-packages (from pydantic<3,>=1.9.0->openai) (2.16.3)\n",
      "Requirement already satisfied: charset-normalizer<4,>=2 in ./.venv/lib/python3.10/site-packages (from requests->transformers[sentencepiece]==4.37.2) (3.3.2)\n",
      "Requirement already satisfied: urllib3<3,>=1.21.1 in ./.venv/lib/python3.10/site-packages (from requests->transformers[sentencepiece]==4.37.2) (2.2.1)\n",
      "Requirement already satisfied: nvidia-cublas-cu12==12.1.3.1 in ./.venv/lib/python3.10/site-packages (from torch>=1.10.0->accelerate==0.26.1) (12.1.3.1)\n",
      "Requirement already satisfied: nvidia-nvtx-cu12==12.1.105 in ./.venv/lib/python3.10/site-packages (from torch>=1.10.0->accelerate==0.26.1) (12.1.105)\n",
      "Requirement already satisfied: nvidia-cuda-nvrtc-cu12==12.1.105 in ./.venv/lib/python3.10/site-packages (from torch>=1.10.0->accelerate==0.26.1) (12.1.105)\n",
      "Requirement already satisfied: nvidia-cuda-runtime-cu12==12.1.105 in ./.venv/lib/python3.10/site-packages (from torch>=1.10.0->accelerate==0.26.1) (12.1.105)\n",
      "Requirement already satisfied: triton==2.2.0 in ./.venv/lib/python3.10/site-packages (from torch>=1.10.0->accelerate==0.26.1) (2.2.0)\n",
      "Requirement already satisfied: nvidia-cufft-cu12==11.0.2.54 in ./.venv/lib/python3.10/site-packages (from torch>=1.10.0->accelerate==0.26.1) (11.0.2.54)\n",
      "Requirement already satisfied: nvidia-nccl-cu12==2.19.3 in ./.venv/lib/python3.10/site-packages (from torch>=1.10.0->accelerate==0.26.1) (2.19.3)\n",
      "Requirement already satisfied: nvidia-cuda-cupti-cu12==12.1.105 in ./.venv/lib/python3.10/site-packages (from torch>=1.10.0->accelerate==0.26.1) (12.1.105)\n",
      "Requirement already satisfied: nvidia-curand-cu12==10.3.2.106 in ./.venv/lib/python3.10/site-packages (from torch>=1.10.0->accelerate==0.26.1) (10.3.2.106)\n",
      "Requirement already satisfied: nvidia-cusolver-cu12==11.4.5.107 in ./.venv/lib/python3.10/site-packages (from torch>=1.10.0->accelerate==0.26.1) (11.4.5.107)\n",
      "Requirement already satisfied: nvidia-cusparse-cu12==12.1.0.106 in ./.venv/lib/python3.10/site-packages (from torch>=1.10.0->accelerate==0.26.1) (12.1.0.106)\n",
      "Requirement already satisfied: jinja2 in ./.venv/lib/python3.10/site-packages (from torch>=1.10.0->accelerate==0.26.1) (3.1.3)\n",
      "Requirement already satisfied: sympy in ./.venv/lib/python3.10/site-packages (from torch>=1.10.0->accelerate==0.26.1) (1.12)\n",
      "Requirement already satisfied: networkx in ./.venv/lib/python3.10/site-packages (from torch>=1.10.0->accelerate==0.26.1) (3.2.1)\n",
      "Requirement already satisfied: nvidia-cudnn-cu12==8.9.2.26 in ./.venv/lib/python3.10/site-packages (from torch>=1.10.0->accelerate==0.26.1) (8.9.2.26)\n",
      "Requirement already satisfied: nvidia-nvjitlink-cu12 in ./.venv/lib/python3.10/site-packages (from nvidia-cusolver-cu12==11.4.5.107->torch>=1.10.0->accelerate==0.26.1) (12.4.99)\n",
      "Requirement already satisfied: rich>=11.1.0 in ./.venv/lib/python3.10/site-packages (from tyro>=0.5.11->trl==0.7.11) (13.7.1)\n",
      "Requirement already satisfied: docstring-parser>=0.14.1 in ./.venv/lib/python3.10/site-packages (from tyro>=0.5.11->trl==0.7.11) (0.15)\n",
      "Requirement already satisfied: shtab>=1.5.6 in ./.venv/lib/python3.10/site-packages (from tyro>=0.5.11->trl==0.7.11) (1.7.0)\n",
      "Requirement already satisfied: python-dateutil>=2.8.2 in ./.venv/lib/python3.10/site-packages (from pandas->datasets==2.16.1) (2.9.0.post0)\n",
      "Requirement already satisfied: tzdata>=2022.7 in ./.venv/lib/python3.10/site-packages (from pandas->datasets==2.16.1) (2024.1)\n",
      "Requirement already satisfied: pytz>=2020.1 in ./.venv/lib/python3.10/site-packages (from pandas->datasets==2.16.1) (2024.1)\n",
      "Requirement already satisfied: six>=1.5 in ./.venv/lib/python3.10/site-packages (from python-dateutil>=2.8.2->pandas->datasets==2.16.1) (1.16.0)\n",
      "Requirement already satisfied: markdown-it-py>=2.2.0 in ./.venv/lib/python3.10/site-packages (from rich>=11.1.0->tyro>=0.5.11->trl==0.7.11) (3.0.0)\n",
      "Requirement already satisfied: pygments<3.0.0,>=2.13.0 in ./.venv/lib/python3.10/site-packages (from rich>=11.1.0->tyro>=0.5.11->trl==0.7.11) (2.17.2)\n",
      "Requirement already satisfied: MarkupSafe>=2.0 in ./.venv/lib/python3.10/site-packages (from jinja2->torch>=1.10.0->accelerate==0.26.1) (2.1.5)\n",
      "Requirement already satisfied: mpmath>=0.19 in ./.venv/lib/python3.10/site-packages (from sympy->torch>=1.10.0->accelerate==0.26.1) (1.3.0)\n",
      "Requirement already satisfied: mdurl~=0.1 in ./.venv/lib/python3.10/site-packages (from markdown-it-py>=2.2.0->rich>=11.1.0->tyro>=0.5.11->trl==0.7.11) (0.1.2)\n"
     ]
    }
   ],
   "source": [
    "# Install Pytorch & other libraries\n",
    "# !pip install \"torch==2.1.2\" tensorboard\n",
    "\n",
    "# Install Hugging Face libraries\n",
    "!pip install  --upgrade \\\n",
    "  \"transformers[sentencepiece]==4.37.2\" \\\n",
    "  \"datasets==2.16.1\" \\\n",
    "  \"accelerate==0.26.1\" \\\n",
    "  \"evaluate==0.4.1\" \\\n",
    "  \"bitsandbytes==0.42.0\" \\\n",
    "  \"trl==0.7.11\" \\\n",
    "  \"peft==0.8.2\" \\\n",
    "  \"pillow\" \\\n",
    "  \"openai\" \\\n",
    "  \"tensorboardX\""
   ]
  },
  {
   "cell_type": "markdown",
   "metadata": {},
   "source": [
    "If you are using a GPU with Ampere architecture (e.g. NVIDIA A10G or RTX 4090/3090) or newer, you can use Flash Attention. **[FlashAttention](https://github.com/Dao-AILab/flash-attention/tree/main)** can accelerate training time up to 3x.\n",
    "\n",
    "*Note: If your machine has less than 96GB of RAM and lots of CPU cores, reduce the number of **`MAX_JOBS`**."
   ]
  },
  {
   "cell_type": "markdown",
   "metadata": {},
   "source": [
    "```\n",
    "set HF_TOKEN=foobar\n",
    "```"
   ]
  },
  {
   "cell_type": "code",
   "execution_count": 2,
   "metadata": {},
   "outputs": [
    {
     "name": "stdout",
     "output_type": "stream",
     "text": [
      "Requirement already satisfied: wheel in ./.venv/lib/python3.10/site-packages (0.42.0)\n",
      "Requirement already satisfied: ninja in ./.venv/lib/python3.10/site-packages (1.11.1.1)\n",
      "Requirement already satisfied: packaging in ./.venv/lib/python3.10/site-packages (23.2)\n",
      "Requirement already satisfied: flash-attn in ./.venv/lib/python3.10/site-packages (2.5.6)\n",
      "Requirement already satisfied: einops in ./.venv/lib/python3.10/site-packages (from flash-attn) (0.7.0)\n",
      "Requirement already satisfied: packaging in ./.venv/lib/python3.10/site-packages (from flash-attn) (23.2)\n",
      "Requirement already satisfied: torch in ./.venv/lib/python3.10/site-packages (from flash-attn) (2.2.1)\n",
      "Requirement already satisfied: ninja in ./.venv/lib/python3.10/site-packages (from flash-attn) (1.11.1.1)\n",
      "Requirement already satisfied: nvidia-cuda-runtime-cu12==12.1.105 in ./.venv/lib/python3.10/site-packages (from torch->flash-attn) (12.1.105)\n",
      "Requirement already satisfied: jinja2 in ./.venv/lib/python3.10/site-packages (from torch->flash-attn) (3.1.3)\n",
      "Requirement already satisfied: nvidia-cusolver-cu12==11.4.5.107 in ./.venv/lib/python3.10/site-packages (from torch->flash-attn) (11.4.5.107)\n",
      "Requirement already satisfied: networkx in ./.venv/lib/python3.10/site-packages (from torch->flash-attn) (3.2.1)\n",
      "Requirement already satisfied: filelock in ./.venv/lib/python3.10/site-packages (from torch->flash-attn) (3.13.1)\n",
      "Requirement already satisfied: nvidia-cudnn-cu12==8.9.2.26 in ./.venv/lib/python3.10/site-packages (from torch->flash-attn) (8.9.2.26)\n",
      "Requirement already satisfied: nvidia-cufft-cu12==11.0.2.54 in ./.venv/lib/python3.10/site-packages (from torch->flash-attn) (11.0.2.54)\n",
      "Requirement already satisfied: nvidia-cusparse-cu12==12.1.0.106 in ./.venv/lib/python3.10/site-packages (from torch->flash-attn) (12.1.0.106)\n",
      "Requirement already satisfied: sympy in ./.venv/lib/python3.10/site-packages (from torch->flash-attn) (1.12)\n",
      "Requirement already satisfied: typing-extensions>=4.8.0 in ./.venv/lib/python3.10/site-packages (from torch->flash-attn) (4.10.0)\n",
      "Requirement already satisfied: nvidia-cuda-cupti-cu12==12.1.105 in ./.venv/lib/python3.10/site-packages (from torch->flash-attn) (12.1.105)\n",
      "Requirement already satisfied: nvidia-cuda-nvrtc-cu12==12.1.105 in ./.venv/lib/python3.10/site-packages (from torch->flash-attn) (12.1.105)\n",
      "Requirement already satisfied: fsspec in ./.venv/lib/python3.10/site-packages (from torch->flash-attn) (2023.10.0)\n",
      "Requirement already satisfied: nvidia-nvtx-cu12==12.1.105 in ./.venv/lib/python3.10/site-packages (from torch->flash-attn) (12.1.105)\n",
      "Requirement already satisfied: nvidia-curand-cu12==10.3.2.106 in ./.venv/lib/python3.10/site-packages (from torch->flash-attn) (10.3.2.106)\n",
      "Requirement already satisfied: triton==2.2.0 in ./.venv/lib/python3.10/site-packages (from torch->flash-attn) (2.2.0)\n",
      "Requirement already satisfied: nvidia-cublas-cu12==12.1.3.1 in ./.venv/lib/python3.10/site-packages (from torch->flash-attn) (12.1.3.1)\n",
      "Requirement already satisfied: nvidia-nccl-cu12==2.19.3 in ./.venv/lib/python3.10/site-packages (from torch->flash-attn) (2.19.3)\n",
      "Requirement already satisfied: nvidia-nvjitlink-cu12 in ./.venv/lib/python3.10/site-packages (from nvidia-cusolver-cu12==11.4.5.107->torch->flash-attn) (12.4.99)\n",
      "Requirement already satisfied: MarkupSafe>=2.0 in ./.venv/lib/python3.10/site-packages (from jinja2->torch->flash-attn) (2.1.5)\n",
      "Requirement already satisfied: mpmath>=0.19 in ./.venv/lib/python3.10/site-packages (from sympy->torch->flash-attn) (1.3.0)\n"
     ]
    }
   ],
   "source": [
    "import torch; assert torch.cuda.get_device_capability()[0] >= 8, 'Hardware not supported for Flash Attention'\n",
    "# install flash-attn\n",
    "!pip install wheel ninja packaging\n",
    "!MAX_JOBS=2 pip install flash-attn --no-build-isolation"
   ]
  },
  {
   "cell_type": "markdown",
   "metadata": {},
   "source": [
    "_Installing flash attention can take quite a bit of time (10-45 minutes)._"
   ]
  },
  {
   "cell_type": "markdown",
   "metadata": {},
   "source": [
    "We will use the [Hugging Face Hub](https://huggingface.co/models) as a remote model storage and automatically push our model, logs and information to the Hub during training. You must register on the [Hugging Face](https://huggingface.co/join) for this. After you have an account, we will use the `login` util from the `huggingface_hub` package to log into our account and store our token (access key) on the disk."
   ]
  },
  {
   "cell_type": "code",
   "execution_count": null,
   "metadata": {},
   "outputs": [],
   "source": [
    "# from huggingface_hub import login\n",
    "\n",
    "# login(\n",
    "#   token=\"\", # ADD YOUR TOKEN HERE\n",
    "#   add_to_git_credential=True\n",
    "# )"
   ]
  },
  {
   "cell_type": "markdown",
   "metadata": {},
   "source": [
    "## 3. Create and prepare the dataset\n",
    "\n",
    "Improving the helpfulness or quality of LLMs through Aligning methods like DPO doesn’t come for free. Compared to traditional supervised fine-tuning (SFT) alignment methods require preference data. Preference data is crucial as it serves as a proxy against which the model's outputs are evaluated and aligned. A typical DPO dataset includes a triplet out of prompt, chosen, and rejected response. There are several ways to create such a dataset, including:\n",
    "\n",
    "- Using existing open-source datasets, e.g., [SHP](https://huggingface.co/datasets/stanfordnlp/SHP)\n",
    "- Using LLMs to create synthetic preferences, e.g., [Ultrafeedback](https://www.notion.so/9de9ac96f0f94aa5aed96361a26e8bf0?pvs=21)\n",
    "- Using Humans to create datasets, e.g., [HH](https://www.notion.so/SageMaker-bi-weekly-sync-0be2e6ba876a4599b4c0da2681dfb78f?pvs=21)\n",
    "- Using a combination of the above methods, e.g., [Orca DPO](https://huggingface.co/datasets/Intel/orca_dpo_pairs)\n",
    "\n",
    "Each method has advantages and disadvantages and depends on the budget, time, and quality requirements. \n",
    "\n",
    "*It's important to recognize that preference datasets can inherently reflect the biases of the human/AI they are based on. To ensure broader applicability and fairness, it's crucial to incorporate a diverse range of feedback in creating these datasets.*\n",
    "\n",
    "In our example, we will use the [argilla/ultrafeedback-binarized-preferences-cleaned](https://huggingface.co/datasets/argilla/ultrafeedback-binarized-preferences-cleaned?row=0) dataset. The best DPO dataset represents the real-world preferences of your users or customers. If you don’t have collected preferences yet, start with your existing SFT data and use different sizes/quality LLMs to generate feedback. This method was used to create the Orca DPO dataset, where GPT-4 was used for the accepted responses and Llama 70B Chat for the rejected responses. A DPO dataset will have the following format\n",
    "\n",
    "```json\n",
    "{\"chosen\": \"<prompt + good response>\", \"rejected\": \"<prompt + worse response>\" }\n",
    "{\"chosen\": \"<prompt + good response>\", \"rejected\": \"<prompt + worse response>\" }\n",
    "{\"chosen\": \"<prompt + good response>\", \"rejected\": \"<prompt + worse response>\" }\n",
    "```\n",
    "\n",
    "The `<pompt + good response>` and `<prompt + worse response>` are representend in the `conversational` format as: \n",
    "\n",
    "```json\n",
    "[{\"role\": \"system\", \"content\": \"You are...\"}, {\"role\": \"user\", \"content\": \"...\"}, {\"role\": \"assistant\", \"content\": \"...\"}]\n",
    "```\n",
    "\n",
    "_**Note:** If the dataset includes multiple turns you need to make sure that only the last turn between chosen and rejected is different. If not, you must reduce the conversation until only the last assistant turn is different._\n",
    "\n",
    "\n",
    "The DPOTrainer expects the inputs as triples of (prompt, chosen, rejected), where `chosen` and `rejected` are the final turn of a dialogue and the `prompt` is N-1 turns. Those inputs also need to be already formated with the tempalte of the model, e.g. `<|im_start|>user\\nINSTRUCTION\\n<|im_end|>\\n<|im_start|>assistant\\n...`.\n",
    "\n",
    "In our example we are going to load our open-source dataset using the 🤗 Datasets library and then convert it into the correct format. The  [argilla/ultrafeedback-binarized-preferences-cleaned](https://huggingface.co/datasets/argilla/ultrafeedback-binarized-preferences-cleaned?row=0) already comes with the DPO format (chosen/rejected). This means we can create our triplet and templetite it usng a `tokenizer` and the `apply_chat_template` methoh. We are randomly downsampling the dataset to 11,000 training samples and 2,750 test samples\n",
    "\n",
    "_Note: This step can be different for your use case. For example, if you might need to create the `conversational` format and concate the prompt and chosen/rejected response, e.g. `Human:\\n ... Assistant:\\n`._\n",
    "\n"
   ]
  },
  {
   "cell_type": "markdown",
   "metadata": {},
   "source": [
    "Example of using LLM to create synthetic dataset."
   ]
  },
  {
   "cell_type": "code",
   "execution_count": 3,
   "metadata": {},
   "outputs": [],
   "source": [
    "from openai import AsyncOpenAI\n",
    "from pprint import pprint"
   ]
  },
  {
   "cell_type": "code",
   "execution_count": 57,
   "metadata": {},
   "outputs": [
    {
     "data": {
      "text/plain": [
       "'ชอบสีอะไร, สีชมพู, สีดํา\\nชอบกินอะไร, แตงโม, พริก\\nanswer\\nSubject: ในช่วงต้นปีตลาดเริ่มมีการปรับเพิ่มขึ้น จากเมื่อช่วงปลายปีเดือนธันวาคม 2022 ที่ถือว่าเป็นจุดต่ำสุดของช่วงตลาดหมี โดยในไตรมาสที่ 1 ของปี 2023 มูลค่าของตลาดคริปโตปรับตัวเพิ่มขึ้น 51.61%\\nResult:\\nanswer\\nชอบสีอะไร, สีชมพู, สีดํา\\nชอบกินอะไร, แตงโม, พริก\\nanswer\\nSubject: ในช่วงต้นปีตลาดเริ่มมีการปรับเพิ่มขึ้น จากเมื่อช่วงปลายปีเดือนธันวาคม 2022 ที่ถือว่าเป็นจุดต่ำสุดของช่วงตลาดหมี โดยในไตรมาสที่ 1 ของปี 2023 มูลค่าของตลาดคริปโตปรับตัวเพิ่มขึ้น 51.61%\\nResult:\\nanswer\\nชอบสีอะไร, สีชมพู, สีดํา\\nชอบกินอะไร, แตงโม, พริก\\nanswer\\nSubject: ในช่วงต้นปีตลาดเริ่มมีการปรับเพิ่มขึ้น จากเมื่อช่วงปลายปีเดือนธันวาคม 20'"
      ]
     },
     "execution_count": 57,
     "metadata": {},
     "output_type": "execute_result"
    }
   ],
   "source": [
    "openai = AsyncOpenAI(api_key=\"foobar\")\n",
    "openai.base_url = \"http://0.0.0.0:8080/v1\"\n",
    "\n",
    "prompt = \"\"\"\n",
    "Generate csv with 3 columns: question, chosen, rejected based on given subject. The dataset should has 2 examples as csv.\n",
    "\n",
    "Example.\n",
    "Subject: เด็กหญิงเอชอบสีชมพู ชอบกินแตงโม\n",
    "Result:\n",
    "ชอบสีอะไร, สีชมพู, สีดำ\n",
    "ชอบกินอะไร, แตงโม, พริก\n",
    "\n",
    "Generate csv based on given subject. The dataset should has 2 rows as csv. Make sure to answer only Result and don't repeat the row.\n",
    "Subject: ในช่วงต้นปีตลาดเริ่มมีการปรับเพิ่มขึ้น จากเมื่อช่วงปลายปีเดือนธันวาคม 2022 ที่ถือว่าเป็นจุดต่ำสุดของช่วงตลาดหมี โดยในไตรมาสที่ 1 ของปี 2023 มูลค่าของตลาดคริปโตปรับตัวเพิ่มขึ้น 51.61%\n",
    "Result: \n",
    "\"\"\"\n",
    "\n",
    "completion = await openai.chat.completions.create(\n",
    "    model=\"sail/Sailor-7B-Chat\",\n",
    "    messages=[\n",
    "        {\"role\": \"user\", \"content\": prompt},\n",
    "    ],\n",
    ")\n",
    "\n",
    "completion.choices[0].message.content"
   ]
  },
  {
   "cell_type": "code",
   "execution_count": 10,
   "metadata": {},
   "outputs": [
    {
     "name": "stdout",
     "output_type": "stream",
     "text": [
      "('[{\\n'\n",
      " '  \"source\": \"sailor\",\\n'\n",
      " '  \"prompt\": \"มูลค่ารวมของ Stablecoin มีแนวโน้มลดลงอยู่หรือไม่ในปี 2023\",\\n'\n",
      " '  \"chosen\": \"จากตอนต้นปีที่ขนาดอยู่ $137.77B ลดลงมาอยู่ $124.12B (ลดลง '\n",
      " '-9.91%) อ้างอิงข้อมูล ณ วันที่ 1 พฤศจิกายน 2023\",\\n'\n",
      " '  \"rejected\": [\\n'\n",
      " '    \"มีการเปลีย่นแปลงของ Stablecoin ในปี 2023 '\n",
      " 'เหรียญคริปโตที่ใช้แลกเปลี่ยนซื้อ-ขายในตลาด\"\\n'\n",
      " '  ]\\n'\n",
      " '}]\\n'\n",
      " '\\n'\n",
      " 'user\\n'\n",
      " 'Result: [{\\n'\n",
      " '  \"source\": \"sailor\",\\n'\n",
      " '  \"prompt\": \"มูลค่ารวมของ Stablecoin มีแนวโน้มลดลงอยู่หรือไม่ในปี 2023\",\\n'\n",
      " '  \"chosen\": \"จากตอนต้นปีที่ขนาดอยู่ $137.77B ลดลงมาอยู่ $124.12B (ลดลง '\n",
      " '-9.91%) อ้างอิงข้อมูล ณ วันที่ 1 พฤศจิกายน 2023\",\\n'\n",
      " '  \"rejected\": [\\n'\n",
      " '    \"มีการเปลีย่นแปลงของ Stablecoin ในปี 2023 '\n",
      " 'เหรียญคริปโตที่ใช้แลกเปลี่ยนซื้อ-ขายในตลาด\"\\n'\n",
      " '  ]\\n'\n",
      " '}]\\n'\n",
      " 'answer\\n'\n",
      " 'Result: [{\\n'\n",
      " '  \"source\": \"sailor\",\\n'\n",
      " '  \"prompt\": \"มูลค่ารวมของ Stablecoin มีแนวโน้มลดลงอยู่หรือไม่ในปี')\n"
     ]
    }
   ],
   "source": [
    "openai = AsyncOpenAI(api_key=\"foobar\")\n",
    "openai.base_url = \"http://0.0.0.0:8080/v1\"\n",
    "\n",
    "prompt = \"\"\"\n",
    "Example Input:\n",
    "\n",
    "```\n",
    "ในช่วงต้นปีตลาดเริ่มมีการปรับเพิ่มขึ้น จากเมื่อช่วงปลายปีเดือนธันวาคม 2022 ที่ถือว่าเป็นจุดต่ำสุดของช่วงตลาดหมี โดยในไตรมาสที่ 1 ของปี 2023 มูลค่าของตลาดคริปโตปรับตัวเพิ่มขึ้น 51.61% โดยจะมีช่วงเดือนมีนาคมที่ตลาดจะมีความกังวลกับธนาคาร Silicon Valley (SVB) ที่มีปัญหาเรื่องสภาพคล่อง ซึ่งส่งผลกระทบต่อโลกคริปโตพอสมควร เนื่องจากทาง Circle ได้มีสินทรัพย์ที่ใช้ในการ Back Up ตัว Circle USD ($USDC) ฝากไว้กับทาง SVB แต่สุดท้ายเมื่อปัญหาคลี่คลาย โดยทาง Circle นั้นสามารถที่จะดำเนินธุรกรรมถอนสินทรัพย์นั้นออกมาได้ ทางฝั่งรัฐบาลสหรัฐและทาง FED ออกโปรแกรมเพิ่มสภาพคล่องให้กับธนาคารที่ประสบปัญหา ทำให้สถานการณ์เริ่มดีขึ้น ตลาดเลยกลับตัวมาเพิ่มอีกครั้ง พร้อมข่าวที่ค่อนข้างเป็นเชิงบวกกับโลกคริปโตอย่างการอัปเกรดของทางฝั่ง Ethereum\n",
    "```\n",
    "\n",
    "Example Result:\n",
    "\n",
    "```json\n",
    "[\n",
    "  {\n",
    "    \"source\": \"sailor\",\n",
    "    \"prompt\": \"ไตรมาสที่ 1 ของปี 2023 ตลาดคริปโตเป็นอย่างไร\",\n",
    "    \"chosen\": \"ในช่วงต้นปีตลาดเริ่มมีการปรับเพิ่มขึ้น จากเมื่อช่วงปลายปีเดือนธันวาคม 2022 ที่ถือว่าเป็นจุดต่ำสุดของช่วงตลาดหมี โดยในไตรมาสที่ 1 ของปี 2023 มูลค่าของตลาดคริปโตปรับตัวเพิ่มขึ้น 51.61% โดยจะมีช่วงเดือนมีนาคมที่ตลาดจะมีความกังวลกับธนาคาร Silicon Valley (SVB) ที่มีปัญหาเรื่องสภาพคล่อง ซึ่งส่งผลกระทบต่อโลกคริปโตพอสมควร เนื่องจากทาง Circle ได้มีสินทรัพย์ที่ใช้ในการ Back Up ตัว Circle USD ($USDC) ฝากไว้กับทาง SVB แต่สุดท้ายเมื่อปัญหาคลี่คลาย โดยทาง Circle นั้นสามารถที่จะดำเนินธุรกรรมถอนสินทรัพย์นั้นออกมาได้ ทางฝั่งรัฐบาลสหรัฐและทาง FED ออกโปรแกรมเพิ่มสภาพคล่องให้กับธนาคารที่ประสบปัญหา ทำให้สถานการณ์เริ่มดีขึ้น ตลาดเลยกลับตัวมาเพิ่มอีกครั้ง พร้อมข่าวที่ค่อนข้างเป็นเชิงบวกกับโลกคริปโตอย่างการอัปเกรดของทางฝั่ง Ethereum\",\n",
    "    \"rejected\": \"เหรียญคริปโตที่มีความน่าเชื่อถือที่สุดในปี 2023 ขึ้นอยู่กับเกณฑ์ที่ใช้ในการวัดความน่าเชื่อถือ เกณฑ์ ที่ใช้กันทั่วไป: มูลค่าตลาด, ปริมาณการซื้อขาย, เทคโนโลยี, ทีมพัฒนา, การใช้งานจริง\"\n",
    "  }\n",
    "]\n",
    "```\n",
    "\n",
    "Input:\n",
    "\n",
    "```\n",
    "Stablecoin ถือว่าเป็นตัวกลางที่ถูกใช้ในโลกคริปโตในการใช้แลกเปลี่ยนซื้อ-ขาย เหรียญอื่น ๆ  ที่มีอยู่ในตลาด โดยจากภาพรวม เราจะเห็นว่ามูลค่ารวมของ Stablecoin นั้นยังมีแนวโน้มลดลงอยู่ จากตอนต้นปีที่มีขนาดอยู่ที่ $137.77B ลดลงมาอยู่ที่ $124.12B (ลดลง -9.91%) อ้างอิงข้อมูล ณ วันที่ 1 พฤศจิกายน 2023\n",
    "```\n",
    "\n",
    "Result:\n",
    "\"\"\"\n",
    "\n",
    "completion = await openai.chat.completions.create(\n",
    "    model=\"sail/Sailor-7B-Chat\",\n",
    "    messages=[\n",
    "        {\"role\": \"user\", \"content\": prompt},\n",
    "    ],\n",
    ")\n",
    "\n",
    "pprint(completion.choices[0].message.content)"
   ]
  },
  {
   "cell_type": "code",
   "execution_count": 2,
   "metadata": {},
   "outputs": [
    {
     "name": "stderr",
     "output_type": "stream",
     "text": [
      "/home/katopz/book/src/ml/finetuning/.venv/lib/python3.10/site-packages/tqdm/auto.py:21: TqdmWarning: IProgress not found. Please update jupyter and ipywidgets. See https://ipywidgets.readthedocs.io/en/stable/user_install.html\n",
      "  from .autonotebook import tqdm as notebook_tqdm\n",
      "Special tokens have been added in the vocabulary, make sure the associated word embeddings are fine-tuned or trained.\n"
     ]
    }
   ],
   "source": [
    "from transformers import AutoTokenizer\n",
    "from datasets import load_dataset\n",
    "\n",
    "# Load Tokenizer from the hub\n",
    "model_id = \"Qwen/Qwen1.5-7B\" # replace with your model id\n",
    "tokenizer = AutoTokenizer.from_pretrained(model_id)"
   ]
  },
  {
   "cell_type": "code",
   "execution_count": 104,
   "metadata": {},
   "outputs": [
    {
     "name": "stderr",
     "output_type": "stream",
     "text": [
      "Generating train split: 49 examples [00:00, 20039.09 examples/s]\n",
      "Generating train split: 49 examples [00:00, 20039.09 examples/s]\n"
     ]
    }
   ],
   "source": [
    "# Load dataset from the json file\n",
    "avareum_dataset = load_dataset(\"json\", data_files=\"dpo/dataset-dpo.json\", split=\"train\")\n",
    "avareum_dataset = avareum_dataset.shuffle()#.select(range(49))"
   ]
  },
  {
   "cell_type": "code",
   "execution_count": 105,
   "metadata": {},
   "outputs": [
    {
     "data": {
      "text/plain": [
       "Dataset({\n",
       "    features: ['source', 'prompt', 'chosen', 'rejected'],\n",
       "    num_rows: 49\n",
       "})"
      ]
     },
     "execution_count": 105,
     "metadata": {},
     "output_type": "execute_result"
    }
   ],
   "source": [
    "avareum_dataset"
   ]
  },
  {
   "cell_type": "code",
   "execution_count": 106,
   "metadata": {},
   "outputs": [],
   "source": [
    "def create_triplets(example, tokenizer):\n",
    "  \"\"\"Create the triplets (prompt, chosen, rejected)\"\"\"\n",
    "  # extract the prompt, chosen, rejected from example\n",
    "  prompt_messages = [example[\"prompt\"]]\n",
    "  chosen_messages = [example[\"chosen\"]]\n",
    "  rejected_messages = [example[\"rejected\"]]\n",
    "  \n",
    "  # apply template to the messages and return the triplets\n",
    "  return {\n",
    "    \"prompt\": tokenizer.apply_chat_template(prompt_messages, tokenize=False),\n",
    "    \"chosen\": tokenizer.apply_chat_template(chosen_messages, tokenize=False),\n",
    "    \"rejected\": tokenizer.apply_chat_template(rejected_messages, tokenize=False)\n",
    "  }"
   ]
  },
  {
   "cell_type": "code",
   "execution_count": 107,
   "metadata": {},
   "outputs": [
    {
     "name": "stderr",
     "output_type": "stream",
     "text": [
      "Map: 100%|██████████| 49/49 [00:00<00:00, 6283.51 examples/s]\n"
     ]
    }
   ],
   "source": [
    "avareum_dataset = avareum_dataset.map(create_triplets,\n",
    "                                               remove_columns='source',\n",
    "                                               fn_kwargs={\"tokenizer\": tokenizer})  \n"
   ]
  },
  {
   "cell_type": "code",
   "execution_count": 108,
   "metadata": {},
   "outputs": [
    {
     "data": {
      "text/plain": [
       "Dataset({\n",
       "    features: ['prompt', 'chosen', 'rejected'],\n",
       "    num_rows: 49\n",
       "})"
      ]
     },
     "execution_count": 108,
     "metadata": {},
     "output_type": "execute_result"
    }
   ],
   "source": [
    "avareum_dataset"
   ]
  },
  {
   "cell_type": "code",
   "execution_count": 109,
   "metadata": {},
   "outputs": [],
   "source": [
    "# split dataset into 39 training samples and 10 test samples\n",
    "dataset = avareum_dataset.train_test_split(test_size=10/49)"
   ]
  },
  {
   "cell_type": "code",
   "execution_count": 110,
   "metadata": {},
   "outputs": [
    {
     "name": "stdout",
     "output_type": "stream",
     "text": [
      "<|im_start|>user\n",
      "การดำเนิน QT ของ FED ส่งผลกระทบต่อตลาดคริปโตอย่างไร<|im_end|>\n",
      "\n",
      "<|im_start|>assistant\n",
      "โดย Balance Sheet ของ FED ได้ลดจากตอนต้นปีมาเหลือที่ $7.86T (ลดลง 7.64%) ซึ่งถ้าสภาพคล่องยังไม่กลับมา การที่จะมีเงินมาดันให้มูลค\n",
      "<|im_start|>assistant\n",
      "นโยบาย QT ของ FED อาจส่งผลให้เหรียญคริปโตมีราคาปรับตัวลดลงในระยะสั้น เนื่องจากเงินทุนและสภาพคล่องในระบบลดลง แต่ในระยะยาว การควบค\n"
     ]
    }
   ],
   "source": [
    "# print sample cut of \n",
    "print(dataset[\"train\"][0][\"prompt\"][:150])\n",
    "print(dataset[\"train\"][0][\"chosen\"][:150])\n",
    "print(dataset[\"train\"][0][\"rejected\"][:150])"
   ]
  },
  {
   "cell_type": "code",
   "execution_count": 114,
   "metadata": {},
   "outputs": [
    {
     "name": "stderr",
     "output_type": "stream",
     "text": [
      "Creating json from Arrow format: 100%|██████████| 1/1 [00:00<00:00, 669.27ba/s]\n",
      "Creating json from Arrow format: 100%|██████████| 1/1 [00:00<00:00, 907.86ba/s]\n"
     ]
    },
    {
     "data": {
      "text/plain": [
       "28616"
      ]
     },
     "execution_count": 114,
     "metadata": {},
     "output_type": "execute_result"
    }
   ],
   "source": [
    "# save datasets to disk\n",
    "dataset[\"train\"].to_json(\"dpo/train_dataset.json\", orient=\"records\")\n",
    "dataset[\"test\"].to_json(\"dpo/test_dataset.json\", orient=\"records\")"
   ]
  },
  {
   "attachments": {},
   "cell_type": "markdown",
   "metadata": {},
   "source": [
    "## 4. Align LLM with TRL and the DPOTrainer\n",
    "\n",
    "TRL supports the DPO through a dedicated [DPOTrainer](https://huggingface.co/docs/trl/dpo_trainer) for alinging LLMs from preference data, as described in [Direct Preference Optimization: Your Language Model is Secretly a Reward Model](https://arxiv.org/abs/2305.18290). The `DPOTrainer` is a subclass of the `Trainer` from the `transformers` library and supports all the same features, including logging, evaluation, and checkpointing. \n",
    "\n",
    "One big difference to SFT is that for DPO we need an additional Reference Model, which is used for KL-Divergence to help stabilize the training. The Reference Model is normally the same model as the one we are training, but frozen. This means for DPO you need additional memory and compute resources. To keep our example efficient we will use PEFT and adatpers. We load your fine-tuned and then add a new trainable adapters. This means that we will only tune adapters and not the whole model using DPO. The origian model will be then used as reference model itself. If you want to train all parameter with DPO you need to provide a `model` and `reference_model, but this requires more memory and compute resources.\n",
    "\n",
    "Lets start by loading our saved datasets from disk. "
   ]
  },
  {
   "cell_type": "code",
   "execution_count": 4,
   "metadata": {},
   "outputs": [
    {
     "name": "stderr",
     "output_type": "stream",
     "text": [
      "/home/katopz/book/src/ml/finetuning/.venv/lib/python3.10/site-packages/tqdm/auto.py:21: TqdmWarning: IProgress not found. Please update jupyter and ipywidgets. See https://ipywidgets.readthedocs.io/en/stable/user_install.html\n",
      "  from .autonotebook import tqdm as notebook_tqdm\n",
      "Generating train split: 10 examples [00:00, 1965.37 examples/s]\n"
     ]
    }
   ],
   "source": [
    "from datasets import load_dataset\n",
    "\n",
    "# Load jsonl data from disk\n",
    "train_dataset = load_dataset(\"json\", data_files=\"dpo/train_dataset.json\", split=\"train\")\n",
    "eval_dataset = load_dataset(\"json\", data_files=\"dpo/test_dataset.json\", split=\"train\")"
   ]
  },
  {
   "cell_type": "code",
   "execution_count": 5,
   "metadata": {},
   "outputs": [
    {
     "data": {
      "text/plain": [
       "['<|im_start|>user\\nการดำเนิน QT ของ FED ส่งผลกระทบต่อตลาดคริปโตอย่างไร<|im_end|>\\n',\n",
       " '<|im_start|>user\\nBUSD อยู่ในอันดับใดของตลาด Stable Coin ในปีนี้<|im_end|>\\n',\n",
       " '<|im_start|>user\\nในไตรมาสที่ 2 และ 3 ของปี 2023 ตลาดคริปโตเป็นอย่างไร<|im_end|>\\n',\n",
       " '<|im_start|>user\\nวันที่ 29 ธันวาคม 2023 Ethereum Dominance มีอัตราส่วนเท่าไร<|im_end|>\\n',\n",
       " '<|im_start|>user\\nXRP ติดอันดับในการจัดลำดับ Crypto Dominance ปี 2023 อย่างไร<|im_end|>\\n',\n",
       " '<|im_start|>user\\nการเปลี่ยนแปลงของมูลค่ารวมของ Stablecoin ในตลาดคริปโตเป็นอย่างไร<|im_end|>\\n',\n",
       " '<|im_start|>user\\nไตรมาสที่ 2 ของปี 2023 ตลาดคริปโตเป็นอย่างไร<|im_end|>\\n',\n",
       " '<|im_start|>user\\nสรุปเกี่ยวกับผลตอบแทนของ Crypto Currencies ในไตรมาสที่ 2 และ 3 ของปี 2023<|im_end|>\\n',\n",
       " '<|im_start|>user\\nไตรมาสที่ 3 และ 4 ของปี 2023 มูลค่าของตลาดคริปโตเป็นยังไงบ้าง<|im_end|>\\n',\n",
       " '<|im_start|>user\\nว่าจำนวนมูลค่าตลาดของ USK เป็นเท่าไร<|im_end|>\\n',\n",
       " '<|im_start|>user\\nการเปลี่ยนแปลงของ TVL (Total Value Locked) ของ Stablecoin ใน DeFi Protocol เป็นอย่างไร<|im_end|>\\n',\n",
       " '<|im_start|>user\\nBitcoin ที่อยู่ในกลุ่มของบริษัทมีปริมาณเท่าไร<|im_end|>\\n',\n",
       " '<|im_start|>user\\nTVL ของ Stablecoin บน DeFi Protocol ในปี 2023 เป็นอย่างไร<|im_end|>\\n',\n",
       " '<|im_start|>user\\nTop 10 Public Company ที่ถือครอง Bitcoin มีบริษัทอะไรบ้าง<|im_end|>\\n',\n",
       " '<|im_start|>user\\nการปรับตัวของตลาดคริปโตในไตรมาสที่ 2 และ 3 เกิดขึ้นด้วยอะไร<|im_end|>\\n',\n",
       " '<|im_start|>user\\nFED กำลังดำเนินนโยบายการเงินอย่างไรในปัจจุบัน<|im_end|>\\n',\n",
       " '<|im_start|>user\\nผลตอบแทนของ Crypto Currencies ในไตรมาสที่ 1 ของปี 2023 เป็นอย่างไร<|im_end|>\\n',\n",
       " '<|im_start|>user\\n$crvUSD มีกลไกอะไรที่ช่วยลดการ Liquidation?<|im_end|>\\n',\n",
       " '<|im_start|>user\\nเหตุใดราคา $MKR จึงปรับตัวดีขึ้นในปี 2023<|im_end|>\\n',\n",
       " '<|im_start|>user\\nวันที่ 29 ธันวาคม 2023 Top 10 ที่ไม่รวม Bitcoin และ Ethereum มีอัตราส่วนเท่าไร<|im_end|>\\n',\n",
       " '<|im_start|>user\\nมูลค่าตลาดคริปโตในไตรมาสที่ 3 ของปี 2023 เป็นอย่างไร<|im_end|>\\n',\n",
       " '<|im_start|>user\\nวันที่ 29 ธันวาคม 2023 Other มีอัตราส่วนเท่าไร<|im_end|>\\n',\n",
       " '<|im_start|>user\\nมูลค่าตลาดของ Stablecoin ไหนมีการเปลี่ยนแปลงมากที่สุดตั้งแต่วันที่ 1 มกราคม ถึง 1 พฤศจิกายน<|im_end|>\\n',\n",
       " '<|im_start|>user\\nไตรมาสที่ 1 ของปี 2023 ตลาดคริปโตเป็นอย่างไร<|im_end|>\\n',\n",
       " '<|im_start|>user\\nGrayscale ชนะคดีความที่ SEC ยื่นฟ้องเพื่อคัดค้านไม่ให้ Grayscale เปิดขาย Bitcoin ETF ในปี 2023 มีผลอย่างไรต่อ Bitcoin และโลกคริปโต<|im_end|>\\n',\n",
       " '<|im_start|>user\\nProtocol ใดที่ใช้ Derivative Ethereum เป็นสินทรัพย์ประกัน?<|im_end|>\\n',\n",
       " '<|im_start|>user\\nKujira Protocol เคยเป็นอะไรมาก่อน<|im_end|>\\n',\n",
       " '<|im_start|>user\\nStablecoin มีบทบาทอย่างไรในโลกคริปโต<|im_end|>\\n',\n",
       " '<|im_start|>user\\nวันที่ 29 ธันวาคม 2023 Bitcoin Dominance มีอัตราส่วนเท่าไร<|im_end|>\\n',\n",
       " '<|im_start|>user\\nสัดส่วนของการถือครอง Bitcoin ของแต่ละกลุ่มในปี 2023 มีการเปลี่ยนแปลงอย่างไร<|im_end|>\\n',\n",
       " '<|im_start|>user\\nKujira เลือกที่จะสร้าง Chain ของตัวเองบน Cosmos เพราะเหตุใด<|im_end|>\\n',\n",
       " '<|im_start|>user\\nในไตรมาสที่ 4 ของปี 2023 ตลาดคริปโตเป็นอย่างไร<|im_end|>\\n',\n",
       " '<|im_start|>user\\nมูลค่าตลาดของ $eUSD คือเท่าไร?<|im_end|>\\n',\n",
       " '<|im_start|>user\\nกลุ่มหลักที่มีผลตอบแทนดีที่สุดในไตรมาสที่ 1 ของปี 2023 คืออะไร<|im_end|>\\n',\n",
       " '<|im_start|>user\\nโปรเจกต์ Native Stablecoin ที่ปล่อยในปี 2023 นี้คืออะไร?<|im_end|>\\n',\n",
       " '<|im_start|>user\\nกลุ่มทางเลือกที่มีผลตอบแทนดีที่สุดในไตรมาสที่ 1 ของปี 2023 คืออะไร<|im_end|>\\n',\n",
       " '<|im_start|>user\\nStablecoin ที่ Kujira สร้างมีชื่อว่าอะไร<|im_end|>\\n',\n",
       " '<|im_start|>user\\nBitcoin  อยู่ในกลุ่มไหนปริมาณเท่าไร<|im_end|>\\n',\n",
       " '<|im_start|>user\\nมูลค่าตลาดคริปโตในไตรมาสที่ 4 ของปี 2023 เป็นอย่างไร<|im_end|>\\n']"
      ]
     },
     "execution_count": 5,
     "metadata": {},
     "output_type": "execute_result"
    }
   ],
   "source": [
    "train_dataset['prompt']"
   ]
  },
  {
   "cell_type": "markdown",
   "metadata": {},
   "source": [
    "We are going to train [cognitivecomputations/dolphin-2.1-mistral-7b](https://huggingface.co/cognitivecomputations/dolphin-2.1-mistral-7b). Dolphin is a fine-tuned Mistral 7B with ChatML template support system messages. You can easily swap out the model for another model, e.g. [Mistral](https://huggingface.co/mistralai/Mistral-7B-Instruct-v0.2) or [Mixtral](https://huggingface.co/mistralai/Mixtral-8x7B-Instruct-v0.1) models, TII [Falcon](https://huggingface.co/tiiuae/falcon-40b), or any other LLMs by changing our `model_id` variable.\n",
    "\n",
    "_Note: Be aware the bigger the model the more memory it will require. In our example we will use the 7B version, which can be tuned on 24GB GPUs. If you have a smaller GPU._\n",
    "\n",
    "The first step is to load the model in int-4 using `bitsandbytes` and then add "
   ]
  },
  {
   "cell_type": "code",
   "execution_count": 6,
   "metadata": {},
   "outputs": [],
   "source": [
    "import torch\n",
    "from transformers import AutoTokenizer, AutoModelForCausalLM, BitsAndBytesConfig\n",
    "\n",
    "# Hugging Face model id\n",
    "model_id = \"SeaLLMs/SeaLLM-7B-v2\" # replace with your model id\n",
    "\n",
    "# BitsAndBytesConfig int-4 config\n",
    "bnb_config = BitsAndBytesConfig(\n",
    "    load_in_4bit=True, bnb_4bit_use_double_quant=True, bnb_4bit_quant_type=\"nf4\", bnb_4bit_compute_dtype=torch.bfloat16\n",
    ")\n",
    "\n",
    "# Load model and tokenizer\n",
    "model = AutoModelForCausalLM.from_pretrained(\n",
    "    model_id,\n",
    "    device_map=\"auto\",\n",
    "    use_cache=False, \n",
    "    attn_implementation=\"flash_attention_2\",\n",
    "    torch_dtype=torch.bfloat16,\n",
    "    quantization_config=bnb_config\n",
    ")\n",
    "tokenizer = AutoTokenizer.from_pretrained(model_id)\n",
    "tokenizer.pad_token = tokenizer.eos_token\n",
    "tokenizer.padding_side = 'left' # to prevent errors with FA\n",
    "tokenizer.truncation_side = 'left' # to prevent cutting off last generation"
   ]
  },
  {
   "cell_type": "markdown",
   "metadata": {},
   "source": [
    "Compared to the `SFTTrainer` the DPOTrainer has two parameter related to dataset sizing with `max_prompt_length` and `max_length`. The `max_prompt_length` is the maximum length of the prompt and the `max_length` is the maximum length of the prompt + chosen or rejected response. Those are used for tokenization, padding and trunctation. This means if we set those wrongly our data will be potentially cut off, but if we set them too high we will waste memory and time. \n",
    "\n",
    "The [Alignment Handbook](https://github.com/huggingface/alignment-handbook) when with the `max_prompt_length` of 512 and `max_length` of 1024 combining it with the truncation side left (90% of data samples where in that range). Truncation side left  means the beginning will be removed so we keep the important assistant response. In our example we want to cover the ~97% percentile and filter out longer samples, rather than truncating."
   ]
  },
  {
   "cell_type": "code",
   "execution_count": 7,
   "metadata": {},
   "outputs": [
    {
     "name": "stderr",
     "output_type": "stream",
     "text": [
      "Filter: 100%|██████████| 39/39 [00:00<00:00, 2058.59 examples/s]\n",
      "Filter: 100%|██████████| 10/10 [00:00<00:00, 3028.38 examples/s]"
     ]
    },
    {
     "name": "stdout",
     "output_type": "stream",
     "text": [
      "len(train_dataset): 37\n",
      "len(eval_dataset): 9\n",
      "p95 prompt length: 52\n",
      "p95 prompt + chosen length: 322\n"
     ]
    },
    {
     "name": "stderr",
     "output_type": "stream",
     "text": [
      "\n"
     ]
    }
   ],
   "source": [
    "#### COMMENT IN TO RECALCULATE MAX LENGTHS ####\n",
    "from numpy import percentile\n",
    "\n",
    "# lets find the p95 length of the prompt \n",
    "prompt_length = int(percentile([len(tokenizer(x)[\"input_ids\"]) for x in train_dataset[\"prompt\"]], 95))\n",
    "max_seq_length_chosen = int(percentile([len(tokenizer(x[\"prompt\"] + x[\"chosen\"])[\"input_ids\"]) for x in train_dataset], 95))\n",
    "max_seq_length_rejected = int(percentile([len(tokenizer(x[\"prompt\"] + x[\"rejected\"])[\"input_ids\"]) for x in train_dataset], 95))\n",
    "max_seq_length = max(max_seq_length_chosen, max_seq_length_rejected)\n",
    "\n",
    "# filter datasets to remove samples that are too long\n",
    "train_dataset = train_dataset.filter(lambda x: len(tokenizer(x[\"prompt\"] + x[\"chosen\"])[\"input_ids\"]) <= max_seq_length)\n",
    "eval_dataset = eval_dataset.filter(lambda x: len(tokenizer(x[\"prompt\"] + x[\"chosen\"])[\"input_ids\"]) <= max_seq_length)\n",
    "print(f\"len(train_dataset): {len(train_dataset)}\")\n",
    "print(f\"len(eval_dataset): {len(eval_dataset)}\")\n",
    "\n",
    "# Up the lengths to next multiple of 2, why 2? Don't know\n",
    "prompt_length = ((prompt_length + 1) // 2) * 2\n",
    "max_seq_length = ((max_seq_length + 1) // 2) * 2\n",
    "print(f\"p95 prompt length: {prompt_length}\")\n",
    "print(f\"p95 prompt + chosen length: {max_seq_length}\")\n"
   ]
  },
  {
   "cell_type": "code",
   "execution_count": 8,
   "metadata": {},
   "outputs": [],
   "source": [
    "prompt_length = 128\n",
    "max_seq_length = 512"
   ]
  },
  {
   "cell_type": "markdown",
   "metadata": {},
   "source": [
    "_Note: You could reduce the `max_seq_length` to `512` this would lead to a memory reduction and then increase the batch_size._"
   ]
  },
  {
   "attachments": {},
   "cell_type": "markdown",
   "metadata": {},
   "source": [
    "The `DPOTrainer` supports a native integration with `peft`, which makes it super easy to efficiently align LLMs using, e.g. QLoRA. We only need to create our `LoraConfig` and provide it to the trainer. Our `LoraConfig` parameters are the same as for the SFT example."
   ]
  },
  {
   "cell_type": "code",
   "execution_count": 9,
   "metadata": {},
   "outputs": [],
   "source": [
    "# Importing the LoraConfig class from the peft module\n",
    "from peft import LoraConfig\n",
    "\n",
    "# Creating a LoRA configuration based on the QLoRA paper & Sebastian Raschka's experiment\n",
    "peft_config = LoraConfig(\n",
    "    # Parameter for LoRA's alpha value,\n",
    "    # controls the importance the model gives to the current input\n",
    "    # compared to historical inputs.\n",
    "    lora_alpha=16,\n",
    "    \n",
    "    # Dropout probability, a regularization technique to prevent overfitting\n",
    "    lora_dropout=0.05,\n",
    "    \n",
    "    # Parameter 'r' for LoRA,\n",
    "    # determines the number of historical context embeddings used in current predictions\n",
    "    r=64, # 16 previous time steps.\n",
    "    \n",
    "    # Bias parameter, specifying whether to use bias terms in LoRA\n",
    "    bias=\"none\",\n",
    "\n",
    "    # Target modules for LoRA,\n",
    "    # indicating which layers should use the LoRA mechanism\n",
    "    target_modules=\"all-linear\",\n",
    "    \n",
    "    # Task type, specifying the type of task for which LoRA is being configured\n",
    "    # (here, a causal language modeling task: the model predicts the next word in\n",
    "    # a sentence based only on the words that came before it)\n",
    "    task_type=\"CAUSAL_LM\",\n",
    ")\n"
   ]
  },
  {
   "attachments": {},
   "cell_type": "markdown",
   "metadata": {},
   "source": [
    "Before we can start our training we need to define the hyperparameters (`TrainingArguments`) & DPO parameters.\n",
    "\n",
    "Based on the [Alignment Handbook](https://github.com/huggingface/alignment-handbook) we know that we need to use a ~10-100x smaller learning rate for DPO compared to SFT. In our example we reduce the learning rate from 2e-4 (SFT) to 5e-5 (DPO) or 40x smaller.  \n",
    "\n",
    "Another important parameter is the `beta` parameter, which is used to control the strength of the alignment. The bigger the `beta` is typically something in the range of 0.1 to 0.5. A higher beta means less divergence from the initial reference model or the text generations are very similar in terms of their probability distributions. In terms of training length, we go with `1` epoch, which is a good starting point. There is no rule of thumb for the number of epochs, it is also related to the number of epochs used for fine-tuning."
   ]
  },
  {
   "cell_type": "code",
   "execution_count": 10,
   "metadata": {},
   "outputs": [],
   "source": [
    "from transformers import TrainingArguments\n",
    "\n",
    "args = TrainingArguments(\n",
    "    output_dir=\"dpo/train_output\",               # directory to save and repository id\n",
    "    num_train_epochs=1,                     # number of training epochs\n",
    "    per_device_train_batch_size=12,         # batch size per device during training\n",
    "    per_device_eval_batch_size=4,           # batch size for evaluation\n",
    "    gradient_accumulation_steps=1,          # number of steps before performing a backward/update pass\n",
    "    gradient_checkpointing=True,            # use gradient checkpointing to save memory\n",
    "    optim=\"adamw_torch_fused\",              # use fused adamw optimizer\n",
    "    learning_rate=5e-5,                     # 10x higher LR than QLoRA paper\n",
    "    max_grad_norm=0.3,                      # max gradient norm based on QLoRA paper\n",
    "    warmup_ratio=0.1,                       # warmup ratio based on QLoRA paper\n",
    "    lr_scheduler_type=\"cosine\",             # use cosine learning rate scheduler\n",
    "    logging_steps=25,                       # log every 25 steps\n",
    "    save_steps=500,                         # when to save checkpoint\n",
    "    save_total_limit=2,                     # limit the total amount of checkpoints\n",
    "    evaluation_strategy=\"steps\",            # evaluate every 1000 steps\n",
    "    eval_steps=700,                         # when to evaluate\n",
    "    bf16=True,                              # use bfloat16 precision\n",
    "    tf32=True,                              # use tf32 precision\n",
    "    push_to_hub=False,                      # push model to hub\n",
    "    report_to=\"tensorboard\",                # report metrics to tensorboard\n",
    ")\n",
    "\n",
    "dpo_args = {\n",
    "    \"beta\": 0.1,                            # The beta factor in DPO loss. Higher beta means less divergence\n",
    "    \"loss_type\": \"sigmoid\"                  # The loss type for DPO.\n",
    "}"
   ]
  },
  {
   "cell_type": "markdown",
   "metadata": {},
   "source": [
    "We now have every building block we need to create our `DPOTrainer` to start then training our model."
   ]
  },
  {
   "cell_type": "code",
   "execution_count": 11,
   "metadata": {},
   "outputs": [
    {
     "name": "stderr",
     "output_type": "stream",
     "text": [
      "/home/katopz/book/src/ml/finetuning/.venv/lib/python3.10/site-packages/trl/trainer/dpo_trainer.py:328: UserWarning: When using DPODataCollatorWithPadding, you should set `remove_unused_columns=False` in your TrainingArguments we have set it for you, but you should do it yourself in the future.\n",
      "  warnings.warn(\n",
      "Map: 100%|██████████| 37/37 [00:00<00:00, 2115.04 examples/s]\n",
      "Map: 100%|██████████| 9/9 [00:00<00:00, 1293.12 examples/s]\n"
     ]
    }
   ],
   "source": [
    "from trl import DPOTrainer\n",
    "\n",
    "trainer = DPOTrainer(\n",
    "    model,\n",
    "    ref_model=None, # set to none since we use peft\n",
    "    peft_config=peft_config,\n",
    "    args=args,\n",
    "    train_dataset=train_dataset,\n",
    "    eval_dataset=eval_dataset,\n",
    "    tokenizer=tokenizer,\n",
    "    max_length=max_seq_length,\n",
    "    max_prompt_length=prompt_length,\n",
    "    beta=dpo_args[\"beta\"],\n",
    "    loss_type=dpo_args[\"loss_type\"],\n",
    ")"
   ]
  },
  {
   "attachments": {},
   "cell_type": "markdown",
   "metadata": {},
   "source": [
    "Start training our model by calling the `train()` method on our `Trainer` instance. This will start the training loop and train our model for 1 epoch. Since we are using a PEFT method, we will only save the adapted model weights and not the full model.\n",
    "\n",
    "_Note: During the training we want to minimize loss and grow reward/margins metrics. Keep an eye on the reward/margins metrics, if they are not growing you might need to increase the `beta` parameter or adjust the `learning_rate`._"
   ]
  },
  {
   "cell_type": "code",
   "execution_count": 12,
   "metadata": {},
   "outputs": [
    {
     "name": "stderr",
     "output_type": "stream",
     "text": [
      "/home/katopz/book/src/ml/finetuning/.venv/lib/python3.10/site-packages/torch/utils/checkpoint.py:460: UserWarning: torch.utils.checkpoint: please pass in use_reentrant=True or use_reentrant=False explicitly. The default value of use_reentrant will be updated to be False in the future. To maintain current behavior, pass use_reentrant=True. It is recommended that you use use_reentrant=False. Refer to docs for more details on the differences between the two variants.\n",
      "  warnings.warn(\n",
      "The input hidden states seems to be silently casted in float32, this might be related to the fact you have upcasted embedding or layer norm layers in float32. We will cast back the input in torch.bfloat16.\n",
      "/home/katopz/book/src/ml/finetuning/.venv/lib/python3.10/site-packages/torch/utils/checkpoint.py:90: UserWarning: None of the inputs have requires_grad=True. Gradients will be None\n",
      "  warnings.warn(\n",
      "Could not estimate the number of tokens of the input, floating-point operations will not be computed\n"
     ]
    },
    {
     "data": {
      "text/html": [
       "\n",
       "    <div>\n",
       "      \n",
       "      <progress value='8' max='8' style='width:300px; height:20px; vertical-align: middle;'></progress>\n",
       "      [8/8 00:39, Epoch 2/2]\n",
       "    </div>\n",
       "    <table border=\"1\" class=\"dataframe\">\n",
       "  <thead>\n",
       " <tr style=\"text-align: left;\">\n",
       "      <th>Step</th>\n",
       "      <th>Training Loss</th>\n",
       "      <th>Validation Loss</th>\n",
       "    </tr>\n",
       "  </thead>\n",
       "  <tbody>\n",
       "  </tbody>\n",
       "</table><p>"
      ],
      "text/plain": [
       "<IPython.core.display.HTML object>"
      ]
     },
     "metadata": {},
     "output_type": "display_data"
    },
    {
     "data": {
      "text/plain": [
       "TrainOutput(global_step=8, training_loss=0.29969996213912964, metrics={'train_runtime': 50.345, 'train_samples_per_second': 1.47, 'train_steps_per_second': 0.159, 'total_flos': 0.0, 'train_loss': 0.29969996213912964, 'epoch': 2.0})"
      ]
     },
     "execution_count": 12,
     "metadata": {},
     "output_type": "execute_result"
    }
   ],
   "source": [
    "# start training, the model will be automatically saved to the hub and the output directory\n",
    "trainer.train()"
   ]
  },
  {
   "cell_type": "code",
   "execution_count": 13,
   "metadata": {},
   "outputs": [],
   "source": [
    "# save model at the end of training\n",
    "trainer.save_model()"
   ]
  },
  {
   "attachments": {},
   "cell_type": "markdown",
   "metadata": {},
   "source": [
    "The training with Flash Attention for 1 epochs with a dataset of ~10k samples took ~01:30:00 on 1x H100 GPU. You should be able to run the training on a `g5.2xlarge` instance by reducing the batch_size (est. to 1) and maybe the max_seq_length (est. to 1512)."
   ]
  },
  {
   "cell_type": "code",
   "execution_count": 16,
   "metadata": {},
   "outputs": [],
   "source": [
    "# free the memory again\n",
    "del model\n",
    "del trainer\n",
    "torch.cuda.empty_cache()"
   ]
  },
  {
   "cell_type": "markdown",
   "metadata": {},
   "source": [
    "### _Optional: Merge LoRA adapter in to the original model_\n",
    "\n",
    "When using QLoRA, we only train adapters and not the full model. This means when saving the model during training we only save the adapter weights and not the full model. If you want to save the full model, which makes it easier to use with Text Generation Inference you can merge the adapter weights into the model weights using the `merge_and_unload` method and then save the model with the `save_pretrained` method. This will save a default model, which can be used for inference.\n",
    "\n",
    "_Note: You might require > 30GB CPU Memory._"
   ]
  },
  {
   "cell_type": "code",
   "execution_count": null,
   "metadata": {},
   "outputs": [],
   "source": [
    "#### COMMENT IN TO MERGE PEFT AND BASE MODEL ####\n",
    "# from peft import PeftModel, PeftConfig\n",
    "# from transformers import AutoModelForCausalLM, AutoTokenizer\n",
    "# from peft import AutoPeftModelForCausalLM\n",
    "\n",
    "# # Load PEFT model on CPU\n",
    "# model = AutoPeftModelForCausalLM.from_pretrained(\n",
    "#     args.output_dir,\n",
    "#     torch_dtype=torch.float16,\n",
    "#     low_cpu_mem_usage=True,\n",
    "# )  \n",
    "# # Merge LoRA and base model and save\n",
    "# merged_model = model.merge_and_unload()\n",
    "# merged_model.save_pretrained(args.output_dir,safe_serialization=True, max_shard_size=\"2GB\")"
   ]
  },
  {
   "cell_type": "markdown",
   "metadata": {},
   "source": [
    "## 4. Test LLM (vibe-check)\n",
    "\n",
    "After the training is done we want to test and evaluate or model. Evaluating Generative AI models in an open-ended way is not a trivial since 1 input can have multiple correct outputs. If you want to learn more about evaluating generative models, check out [Evaluate LLMs and RAG a practical example using Langchain and Hugging Face](https://www.philschmid.de/evaluate-llm) blog post. Especially, when using RLHF techniques like DPO, it's important to \"vibe-check\" the model. \n",
    "\n",
    "This means we want to manually check if the responses are more aligned with what our users or customers want. This could mean that we need to check if the responses are more helpful, more accurate, more engaging, or more informative as before. A good test here is if you have data from your SFT or previous LLMs, you can compare the outputs and see if the new model is better.\n",
    "\n",
    "In our case we just check a few examples and see if the model generates helpful responses using unseen prompts."
   ]
  },
  {
   "cell_type": "code",
   "execution_count": 1,
   "metadata": {},
   "outputs": [
    {
     "name": "stderr",
     "output_type": "stream",
     "text": [
      "/home/katopz/book/src/ml/finetuning/.venv/lib/python3.10/site-packages/tqdm/auto.py:21: TqdmWarning: IProgress not found. Please update jupyter and ipywidgets. See https://ipywidgets.readthedocs.io/en/stable/user_install.html\n",
      "  from .autonotebook import tqdm as notebook_tqdm\n"
     ]
    }
   ],
   "source": [
    "import torch\n",
    "from peft import AutoPeftModelForCausalLM\n",
    "from transformers import AutoTokenizer, pipeline \n",
    "\n",
    "# Path to saved peft adapter model\n",
    "# peft_model_id = args.output_dir # or\n",
    "peft_model_id = \"./dpo/train_output\" \n",
    "\n",
    "# Load Model with PEFT adapter\n",
    "model = AutoPeftModelForCausalLM.from_pretrained(\n",
    "  peft_model_id,\n",
    "  device_map=\"auto\",\n",
    "  torch_dtype=torch.float16\n",
    ")"
   ]
  },
  {
   "cell_type": "code",
   "execution_count": 4,
   "metadata": {},
   "outputs": [
    {
     "name": "stderr",
     "output_type": "stream",
     "text": [
      "The model 'PeftModelForCausalLM' is not supported for text-generation. Supported models are ['BartForCausalLM', 'BertLMHeadModel', 'BertGenerationDecoder', 'BigBirdForCausalLM', 'BigBirdPegasusForCausalLM', 'BioGptForCausalLM', 'BlenderbotForCausalLM', 'BlenderbotSmallForCausalLM', 'BloomForCausalLM', 'CamembertForCausalLM', 'LlamaForCausalLM', 'CodeGenForCausalLM', 'CpmAntForCausalLM', 'CTRLLMHeadModel', 'Data2VecTextForCausalLM', 'ElectraForCausalLM', 'ErnieForCausalLM', 'FalconForCausalLM', 'FuyuForCausalLM', 'GitForCausalLM', 'GPT2LMHeadModel', 'GPT2LMHeadModel', 'GPTBigCodeForCausalLM', 'GPTNeoForCausalLM', 'GPTNeoXForCausalLM', 'GPTNeoXJapaneseForCausalLM', 'GPTJForCausalLM', 'LlamaForCausalLM', 'MarianForCausalLM', 'MBartForCausalLM', 'MegaForCausalLM', 'MegatronBertForCausalLM', 'MistralForCausalLM', 'MixtralForCausalLM', 'MptForCausalLM', 'MusicgenForCausalLM', 'MvpForCausalLM', 'OpenLlamaForCausalLM', 'OpenAIGPTLMHeadModel', 'OPTForCausalLM', 'PegasusForCausalLM', 'PersimmonForCausalLM', 'PhiForCausalLM', 'PLBartForCausalLM', 'ProphetNetForCausalLM', 'QDQBertLMHeadModel', 'Qwen2ForCausalLM', 'ReformerModelWithLMHead', 'RemBertForCausalLM', 'RobertaForCausalLM', 'RobertaPreLayerNormForCausalLM', 'RoCBertForCausalLM', 'RoFormerForCausalLM', 'RwkvForCausalLM', 'Speech2Text2ForCausalLM', 'TransfoXLLMHeadModel', 'TrOCRForCausalLM', 'WhisperForCausalLM', 'XGLMForCausalLM', 'XLMWithLMHeadModel', 'XLMProphetNetForCausalLM', 'XLMRobertaForCausalLM', 'XLMRobertaXLForCausalLM', 'XLNetLMHeadModel', 'XmodForCausalLM'].\n"
     ]
    }
   ],
   "source": [
    "tokenizer = AutoTokenizer.from_pretrained(peft_model_id)\n",
    "# load into pipeline\n",
    "pipe = pipeline(\"text-generation\", model=model, tokenizer=tokenizer)"
   ]
  },
  {
   "cell_type": "markdown",
   "metadata": {},
   "source": [
    "We randomely select prompts from the [teknium/OpenHermes-2.5](https://huggingface.co/datasets/teknium/OpenHermes-2.5) dataset and a Hugging Face special."
   ]
  },
  {
   "cell_type": "code",
   "execution_count": 5,
   "metadata": {},
   "outputs": [],
   "source": [
    "prompts = [\n",
    "  \"มูลค่าตลาดของ Stablecoin ไหนมีการเปลี่ยนแปลงมากที่สุดตั้งแต่วันที่ 1 มกราคม ถึง 1 พฤศจิกายน\"\n",
    "]"
   ]
  },
  {
   "cell_type": "markdown",
   "metadata": {},
   "source": [
    "Lets iterate over the prompts and generate a response using the `generate` method. "
   ]
  },
  {
   "cell_type": "code",
   "execution_count": 3,
   "metadata": {},
   "outputs": [
    {
     "name": "stderr",
     "output_type": "stream",
     "text": [
      "Setting `pad_token_id` to `eos_token_id`:2 for open-end generation.\n"
     ]
    },
    {
     "name": "stdout",
     "output_type": "stream",
     "text": [
      "<|im_start|>user\n",
      "มูลค่าตลาดของ Stablecoin ไหนมีการเปลี่ยนแปลงมากที่สุดตั้งแต่วันที่ 1 มกราคม ถึง 1 พฤศจิกายน<|im_end|><|im_start|>assistant\n",
      "ขออภัยที่ทำให้คุณผิดหวัง แต่ในฐานะ AI ที่ตัดข้อมูลอัปเดตในปี 2023 ผมไม่สามารถให้ข้อมูลทันสมัยหรือข้อมูลการเปลี่ยนแปลงราคาตลาดของ Stablecoins ในช่วงเวลาที่คุณถามได้ อย่างไรก็ตาม Stablecoins โดยทั่วไปถูกออกแบบมาเพื่อมีมูลค่าที่มีความสม่ำเสมอต่อสกุลเงินดอลลาร์สหรัฐ (USD) และมักจะมีการเปลี่ยนแปลงราคาที่ต่ำมากเมื่อเทียบกับสกุลเงินอื่นๆ ในตลาดเงินดึงดูด (Cryptocurrency)\n",
      "\n",
      "มูลค่าตลาดของ Stablecoins มักจะไม่มีการเปลี่ยนแปลงมากนัก เนื่องจากพวกมันมีระบบการรองรับค่า (Backing) ที่อาจประกอบด้วยเงินสกุลรัฐบาล (Fiat Currency), ทองคำ, หรือสินทรัพย์ที่มีมูลค่าคง\n"
     ]
    }
   ],
   "source": [
    "text = \"<|im_start|>user\\nมูลค่าตลาดของ Stablecoin ไหนมีการเปลี่ยนแปลงมากที่สุดตั้งแต่วันที่ 1 มกราคม ถึง 1 พฤศจิกายน<|im_end|><|im_start|>assistant\"\n",
    "# text = \"<|im_start|>user\\n\\u0e01\\u0e25\\u0e38\\u0e48\\u0e21\\u0e2b\\u0e25\\u0e31\\u0e01\\u0e17\\u0e35\\u0e48\\u0e21\\u0e35\\u0e1c\\u0e25\\u0e15\\u0e2d\\u0e1a\\u0e41\\u0e17\\u0e19\\u0e14\\u0e35\\u0e17\\u0e35\\u0e48\\u0e2a\\u0e38\\u0e14\\u0e43\\u0e19\\u0e44\\u0e15\\u0e23\\u0e21\\u0e32\\u0e2a\\u0e17\\u0e35\\u0e48 1 \\u0e02\\u0e2d\\u0e07\\u0e1b\\u0e35 2023 \\u0e04\\u0e37\\u0e2d\\u0e2d\\u0e30\\u0e44\\u0e23<|im_end|><|im_start|>assistant\"\n",
    "\n",
    "encoded = tokenizer(text, return_tensors=\"pt\", add_special_tokens=False)\n",
    "model_input = encoded.to(\"cuda:0\")\n",
    "generated_ids = model.generate(**model_input, max_new_tokens=200, do_sample=True)\n",
    "decoded = tokenizer.batch_decode(generated_ids)\n",
    "print(decoded[0])"
   ]
  },
  {
   "cell_type": "code",
   "execution_count": 7,
   "metadata": {},
   "outputs": [
    {
     "name": "stdout",
     "output_type": "stream",
     "text": [
      "**Prompt**:\n",
      "มูลค่าตลาดของ Stablecoin ไหนมีการเปลี่ยนแปลงมากที่สุดตั้งแต่วันที่ 1 มกราคม ถึง 1 พฤศจิกายน\n",
      "\n",
      "**Generated Answer**:\n",
      "2552\n",
      "TDM\n",
      "\n",
      "### 1. การเปลี่ยนแปลงทางการเมือง\n",
      "\n",
      "การเปลี่ยนแปลงทางการเมืองในปี 2552 มีการเปลี่ยนแปลงที่สำคัญคือการเปลี่ยนแปลงในรัฐธรรมนูญ โดยมีการประกาศใช้รัฐธรรมนูญใหม่ในวันที่ 6 เมษายน 2552 ซึ่งมีการเปลี่ยนแปลงในหลายด้าน เช่น การเพิ่มอำนาจของศาลรัฐธรรมนูญ การเปลี่ยนแปลงในระบบการเลือกตั้ง และการเปลี่ยนแปลงในเรื่องของสิทธิและเสรีภาพของพลเมือง\n",
      "\n",
      "### 2. การเปลี่ยนแปลงทางเศรษฐกิจ\n",
      "\n",
      "ในปี 2552 มีการเปลี่ยนแปลงทางเศรษฐกิจที่สำคัญ เช่น การปรับปรุงกฎหมายภาษี การปรับปรุงกฎหมายการลงทุน และการปรับปรุงกฎหมายการจ้างงาน เพื่อส่งเสริมการลงทุนและการเติบโตของเศรษฐกิจ\n",
      "\n",
      "### 3. การเปลี่ยนแปลงทางสังคม\n",
      "\n",
      "การเปลี่ยนแปลงทางสังคมในปี 2552 มีการเปลี่ยนแปลงที่สำคัญคือการปรับปรุงกฎหมายการศึกษา เพื่อส่งเสริมการศึกษาที่มีคุณภาพและการเข้าถึงการศึกษาที่เท่าเทียมกันในทุกระดับ\n",
      "\n",
      "### 4. การเปลี่ยนแปลงทางสิ่งแวดล้อม\n",
      "\n",
      "การเปลี่ยนแปลงทางสิ่งแวดล้อมในปี 2552 มีการปรับปรุงกฎหมายการอนุรักษ์สิ่งแวดล้อม เพื่อส่งเสริมการอนุรักษ์ทรัพยากรธรรมชาติและการลดการปล่อยมลพิษ\n",
      "\n",
      "### 5. การเปลี่ยนแปลงทางวัฒนธรรม\n",
      "\n",
      "การเปลี่ยนแปลงทางวัฒนธรรมในปี 2552 มีการปรับปรุงกฎหมายเกี่ยวกับการปกป้องสิทธิของผู้บริโภค เพื่อส่งเสริมการบริโภคที่มีคุณภาพและการปกป้องสิทธิของผู้บริโภค\n",
      "\n",
      "### 6. การเปลี่ยนแปลงทางกฎหมาย\n",
      "\n",
      "การเปลี่ยนแปลงทางกฎหมายในปี 2552 มีการปรับปรุงกฎหมายหลายประการ เช่น การปรับปรุงกฎหมายอาญา การปรับปรุงกฎหมายแพ่ง และการปรับปรุงกฎหมายทรัพย์สิน\n",
      "\n",
      "### 7. การเปลี่ยนแปลงทางการศึกษา\n",
      "\n",
      "การเปลี่ยนแปลงทางการศึกษาในปี 2552 มีการปรับปรุงกฎหมายการศึกษา เพื่อส่งเสริมการศึกษาที่มีคุณภาพและการเข้าถึงการศึกษาที่เท่าเทียมกันในทุกระดับ\n",
      "\n",
      "### 8. การเปลี่ยนแปลงทางสุขภาพ\n",
      "\n",
      "การเปลี่ยนแปลงทางสุขภาพในปี 2552 มีการปรับปรุงกฎหมายสุขภาพ เพื่อส่งเสริมสุขภาพของประชาชนและการเข้าถึงบริการสุขภาพที่เท่าเทียมกันในทุกระดับ\n",
      "\n",
      "### 9. การเปลี่ยนแปลงทางกฎหมายทรัพย์สิน\n",
      "\n",
      "การเปลี่ยนแปลงทางกฎหมายทรัพย์สินในปี 2552 มีการปรับปรุงกฎหมายทรัพย์สิน เพื่อส่งเสริมการใช้ทรัพยากรอย่างยั่งยืนและการปกป้องสิทธิของผู้ถือกรรมทรัพย์สิน\n",
      "\n",
      "### 10. การเปลี่ยนแปลงทางกฎหมายอาญา\n",
      "\n",
      "การเปลี่ยนแปลงทางกฎหมายอาญาในปี 2552 มีการปรับปรุงกฎหมายอาญา เพื่อส่งเสริมความยุติธรรมและการปกป้องสิทธิของประชาชนในด้านกฎหมายอาญา\n",
      "\n",
      "### 11. การเปลี่ยนแปลงทางกฎหมายแพ่ง\n",
      "\n",
      "การเปลี่ยนแปลงทางกฎหมายแพ่งในปี 2552 มีการปรับปรุงกฎหมายแพ่ง เพื่อส่งเสริมความยุติธรรมและการปกป้องสิทธิของประชาชนในด้านกฎหมายแพ่ง\n",
      "\n",
      "### 12. การเปลี่ยนแปลงทางกฎหมายทรัพย์สิน\n",
      "\n",
      "การเปลี่ยนแปลงทางกฎหมายทรัพย์สินในปี 2552 มีการปรับปรุงกฎหมายทรัพย์สิน เพื่อส่งเสริมการใช้ทรัพยากรอย่างยั่งยืนและการปกป้องสิทธิของผู้ถือกรรมทรัพย์สิน\n",
      "\n",
      "### 13. การเปลี่ยนแปลงทางกฎหมายทรัพย์สิน\n",
      "\n",
      "การเปลี่ยนแปลงทางกฎหมายทรัพย์สินในปี 2552 มีการปรับปรุงกฎหมายทรัพย์สิน เพื่อส่งเสริมการใช้ทรัพยากรอย่างยั่งยืนและการปกป้องสิทธิของผู้ถือกรรมทรัพย์สิน\n",
      "\n",
      "### 14. การเปลี่ยนแปลงทางกฎหมายทรัพย์สิน\n",
      "\n",
      "การเปลี่ยนแปลงทางกฎหมายทรัพย์สินในปี 2552 มีการปรับปรุงกฎหมายทรั\n",
      "==============================\n"
     ]
    }
   ],
   "source": [
    "for prompt in prompts:\n",
    "  messages = pipe.tokenizer.apply_chat_template([{\"role\":\"user\", \"content\": prompt}], tokenize=False)\n",
    "  outputs = pipe(prompt, max_new_tokens=1024, do_sample=True, temperature=0.1, top_k=5, top_p=0.9, eos_token_id=tokenizer.eos_token_id, pad_token_id=tokenizer.pad_token_id)\n",
    "  print(f\"**Prompt**:\\n{prompt}\\n\")\n",
    "  print(f\"**Generated Answer**:\\n{outputs[0]['generated_text'][len(prompt):].strip()}\")\n",
    "  print(\"===\" * 10)"
   ]
  },
  {
   "attachments": {},
   "cell_type": "markdown",
   "metadata": {},
   "source": [
    "## 5. Evaluate open LLMs on MT-Bench\n",
    "\n",
    "For our use case we will use [MT-Bench](https://github.com/lm-sys/FastChat/blob/main/fastchat/llm_judge/README.md). MT-Bench is a Benchmark designed by LMSYS to test the conversation and instruction-following capabilities of large language models (LLMs). It evaluates LLMs through multi-turn conversations, focusing on their ability to engage in coherent, informative, and engaging exchanges. Since human evaluation is very expensive and time consuming, LMSYS uses GPT-4-Turbo to grade the model responses. Their paper shows as 80% agreement between strong LLM and human preferences. The [LMSYS leaderboard](https://huggingface.co/spaces/lmsys/chatbot-arena-leaderboard) is updated regularly (last updated February 2, 2024). MT-Bench is part of the [FastChat Repository](https://github.com/lm-sys/FastChat/blob/main/fastchat/llm_judge/README.md). \n",
    "\n",
    "MT-Bench supports two different evaluation stratgies: \n",
    "* single-answer grading: LLM grade and give a score to model's answer directly on a scale of 10\n",
    "* pair-wise comparison: Compare two models and see which one is better using LLM as judge, resulting in a win-rate.\n",
    "\n",
    "We are going to use the pair-wise comparison method to compare the base SFT Model with the DPO model, to see if aligning the model with DPO improved the model. Running pairwise comparison on MT-Bench includes the following steps:\n",
    "1. Clone the FastChat Repository & install the requirements\n",
    "2. Generate Responses using our SFT (original) & DPO (trained) model\n",
    "3. Evaluate the responses using pair-wise comparison and GPT-4-Turbo as Judge\n",
    "4. Plot and compare the results\n",
    "\n",
    "MT-Bench currenlty only support OpenAI or Anthropic as Judge, where GPT-4 is the best. If you don't have access to GPT-4 you need to use a different evaluation method. I forked the FastChat repository and added GPT-4 Turbo reference answers to keep the cost lower.\n",
    "\n",
    "Note: If you use this example to train different model, e.g. llama you need to make sure that your model is registered and support in FastChat. This means you need:\n",
    "* [a registered conversation template](https://github.com/lm-sys/FastChat/blob/1db84d0906196673db361eac50d5aa65180a0ffe/fastchat/conversation.py#L1024-L1035)\n",
    "* [a moodel adapter](https://github.com/lm-sys/FastChat/blob/1db84d0906196673db361eac50d5aa65180a0ffe/fastchat/model/model_adapter.py#L1491-L1504) used to match the model path\n",
    "* [register the model adapter](https://github.com/lm-sys/FastChat/blob/1db84d0906196673db361eac50d5aa65180a0ffe/fastchat/model/model_adapter.py#L2255)\n",
    "\n",
    "The easiest way to do this is to fork my [repository](https://github.com/philschmid/FastChat) and then add your model. In our example the base model of is `cognitivecomputations/dolphin-2.1-mistral-7b`, which is [already registered in FastChat](https://github.com/lm-sys/FastChat/blob/1db84d0906196673db361eac50d5aa65180a0ffe/fastchat/model/model_adapter.py#L1579).\n",
    "\n",
    "### 1. Clone the FastChat Repository & install the requirements\n",
    "\n",
    "Let's start by cloning the FastChat repository and installing the requirements.\n",
    "\n",
    "_Note: Restart your notebook/kernel to clear up all GPU memory._ "
   ]
  },
  {
   "cell_type": "code",
   "execution_count": null,
   "metadata": {},
   "outputs": [],
   "source": [
    "# Clone main branch of FastChat\n",
    "!git clone https://github.com/philschmid/FastChat.git\n",
    "# Install FastChat with model worker and llm_judge dependencies\n",
    "!pip install -e \"./FastChat[model_worker,llm_judge]\"\n",
    "!pip install matplotlib tabulate"
   ]
  },
  {
   "cell_type": "markdown",
   "metadata": {},
   "source": [
    "### 2. Generate Responses using our SFT (original) & DPO (trained) model\n",
    "\n",
    "To Generate the responses in MT-Bench we need our directory into `FastChat/fastchat/llm_judge` and then run the `gen_model_answer.py` script. This will generate the responses and save them into a file. We will use the default `--max-new-token` length of `1024`, which could lead to some truncation. If you want to avoid truncation you can increase the `--max-new-token` length to `1512` or higher.\n",
    "\n",
    "We change into the `FastChat/fastchat/llm_judge` directory to run all the evaluation scripts."
   ]
  },
  {
   "cell_type": "code",
   "execution_count": null,
   "metadata": {},
   "outputs": [],
   "source": [
    "import os\n",
    "%cd {os.getcwd()}/FastChat/fastchat/llm_judge\n",
    "# should be in FastChat"
   ]
  },
  {
   "cell_type": "markdown",
   "metadata": {},
   "source": [
    "Lets start with the SFT model and then the DPO model. \n",
    "\n",
    "_Note: The answer of the models will be stored to `FastChat/fastchat/llm_judge/data/mt_bench/model_answer`. You might want to save them later for additional evaluation, when you have a new fine-tuned model._"
   ]
  },
  {
   "cell_type": "code",
   "execution_count": null,
   "metadata": {},
   "outputs": [],
   "source": [
    "# make sure that is the correct path\n",
    "model_path=\"cognitivecomputations/dolphin-2.1-mistral-7b\"\n",
    "# model id will be used to load our conversation template https://github.com/lm-sys/FastChat/blob/1db84d0906196673db361eac50d5aa65180a0ffe/fastchat/model/model_adapter.py#L1579\n",
    "model_id=\"mistral-dolphin-sft\"\n",
    "\n",
    "# generate model answer\n",
    "!python gen_model_answer.py --model-id {model_id} --model-path {model_path}"
   ]
  },
  {
   "cell_type": "markdown",
   "metadata": {},
   "source": [
    "_Note: Generating all responses can take a while, ~60 minutes or more._"
   ]
  },
  {
   "cell_type": "markdown",
   "metadata": {},
   "source": [
    "Now, we generate the responses using the DPO model."
   ]
  },
  {
   "cell_type": "code",
   "execution_count": null,
   "metadata": {},
   "outputs": [],
   "source": [
    "# Change this to where you saved the model during training, remember our current directory is FastChat/\n",
    "model_path=\"/fsx/philipp/doplhin-dpo\"\n",
    "\n",
    "# model id will be used to load our conversation template https://github.com/lm-sys/FastChat/blob/1db84d0906196673db361eac50d5aa65180a0ffe/fastchat/model/model_adapter.py#L1579\n",
    "model_id=\"mistral-dolphin-dpo\"\n",
    "\n",
    "# generate model answer\n",
    "!python gen_model_answer.py --model-id {model_id} --model-path {model_path}"
   ]
  },
  {
   "cell_type": "markdown",
   "metadata": {},
   "source": [
    "_Note: Generating all responses can take a while, ~120 minutes or more._"
   ]
  },
  {
   "cell_type": "markdown",
   "metadata": {},
   "source": [
    "### 3. Evaluate the responses using pair-wise comparison and GPT-4-Turbo as Judge\n",
    "\n",
    "After we have the responses we can evaluate them using the `gen_judgment.py` script. This will pairwise compare all the responses using GPT-4-Turbo and rate which response is better.\n",
    "\n",
    "_Note: We need an `OPENAI_API_KEY` with access to GPT-4 Turbo, running MT-Bench will cost ~1-2$ per model evaluation._"
   ]
  },
  {
   "cell_type": "code",
   "execution_count": null,
   "metadata": {},
   "outputs": [],
   "source": [
    "open_ai_key=\"sk-xxxx\" # replace with your openai key\n",
    "\n",
    "# Pairwise comparison of the two models using OpenAI's GPT-4 Turbo\n",
    "!OPENAI_API_KEY={open_ai_key} python gen_judgment.py --model-list \"mistral-dolphin-dpo\" \"mistral-dolphin-sft\" --judge-model \"gpt-4-1106-preview\" --mode \"pairwise-all\""
   ]
  },
  {
   "cell_type": "markdown",
   "metadata": {},
   "source": [
    "_Note: This can take ~70 minutes._"
   ]
  },
  {
   "cell_type": "markdown",
   "metadata": {},
   "source": [
    "### 4. Plot and compare the results\n",
    "\n",
    "After we have the results we can plot them and compare the win-rate of the SFT and DPO model."
   ]
  },
  {
   "cell_type": "code",
   "execution_count": null,
   "metadata": {},
   "outputs": [],
   "source": [
    "# Results are saved at the following location, make sure its correct\n",
    "res = \"./data/mt_bench/model_judgment/gpt-4-1106-preview_pair.jsonl\"\n",
    "\n",
    "!python show_result.py --input-file {res} --model-list \"mistral-dolphin-dpo\" \"mistral-dolphin-sft\" --judge-model \"gpt-4-1106-preview\" --mode pairwise-all\n",
    "\n",
    "# display plot from image file\n",
    "from PIL import Image\n",
    "i = Image.open(\"win_rate_gpt-4-1106-preview.png\")\n",
    "i.show()\n"
   ]
  },
  {
   "cell_type": "markdown",
   "metadata": {},
   "source": [
    "| model               |   win |   loss |   tie |   win_rate |   loss_rate |   win_rate_adjusted |\n",
    "|:--------------------|------:|-------:|------:|-----------:|------------:|--------------------:|\n",
    "| mistral-dolphin-dpo |    45 |     17 |    98 |    0.28125 |     0.10625 |              0.5875 |\n",
    "| mistral-dolphin-sft |    17 |     45 |    98 |    0.10625 |     0.28125 |              0.4125 |\n",
    "\n",
    "![image](../assets//win_rate_gpt-4-1106-preview.png)\n",
    "\n",
    "By using DPO we were able to achieve a win-rate of 0.5875 compared to 0.4125 with the SFT model. This means by applying DPO we tuned our model to generate responses, which are more aligned with what humans/AI would prefer. This is not optimal yet, but it's a good start. \n",
    "\n",
    "Since the guide is only a starting point, you should consider additional evaluation methods, e.g. human evaluation or instruction-following capabilities. This means we might not have reached the full potential of the model. You should consider training for more epochs and on a larger dataset to improve the model further. "
   ]
  },
  {
   "cell_type": "markdown",
   "metadata": {},
   "source": [
    "### 5. Clean up the FastChat Repository\n",
    "\n",
    "Since we temporary cloned the FastChat repository we can now clean it up by deleting the directory.\n",
    "\n",
    "_Note: If you want to keep your evaluation results you should save the `model_answer` and `judgment` directory._\n",
    "\n"
   ]
  },
  {
   "cell_type": "code",
   "execution_count": null,
   "metadata": {},
   "outputs": [],
   "source": [
    "%cd ../../..\n",
    "\n",
    "# delete the cloned repository\n",
    "!rm -rf FastChat"
   ]
  }
 ],
 "metadata": {
  "kernelspec": {
   "display_name": "Python 3 (ipykernel)",
   "language": "python",
   "name": "python3"
  },
  "language_info": {
   "codemirror_mode": {
    "name": "ipython",
    "version": 3
   },
   "file_extension": ".py",
   "mimetype": "text/x-python",
   "name": "python",
   "nbconvert_exporter": "python",
   "pygments_lexer": "ipython3",
   "version": "3.10.12"
  },
  "orig_nbformat": 4,
  "vscode": {
   "interpreter": {
    "hash": "2d58e898dde0263bc564c6968b04150abacfd33eed9b19aaa8e45c040360e146"
   }
  }
 },
 "nbformat": 4,
 "nbformat_minor": 2
}
