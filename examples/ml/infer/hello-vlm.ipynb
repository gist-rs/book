{
 "cells": [
  {
   "cell_type": "markdown",
   "metadata": {},
   "source": [
    "# Hello VLM via `SakanaAI/EvoVLM-JP-v1-7B`\n",
    "ref: https://huggingface.co/SakanaAI/EvoVLM-JP-v1-7B"
   ]
  },
  {
   "cell_type": "markdown",
   "metadata": {},
   "source": [
    "## Pre-check"
   ]
  },
  {
   "cell_type": "code",
   "execution_count": 1,
   "metadata": {},
   "outputs": [
    {
     "name": "stdout",
     "output_type": "stream",
     "text": [
      "Thu Mar 28 17:12:20 2024       \n",
      "+-----------------------------------------------------------------------------+\n",
      "| NVIDIA-SMI 525.147.05   Driver Version: 551.86       CUDA Version: 12.4     |\n",
      "|-------------------------------+----------------------+----------------------+\n",
      "| GPU  Name        Persistence-M| Bus-Id        Disp.A | Volatile Uncorr. ECC |\n",
      "| Fan  Temp  Perf  Pwr:Usage/Cap|         Memory-Usage | GPU-Util  Compute M. |\n",
      "|                               |                      |               MIG M. |\n",
      "|===============================+======================+======================|\n",
      "|   0  NVIDIA GeForce ...  On   | 00000000:01:00.0  On |                  Off |\n",
      "|  0%   43C    P8    42W / 450W |   1131MiB / 24564MiB |     13%      Default |\n",
      "|                               |                      |                  N/A |\n",
      "+-------------------------------+----------------------+----------------------+\n",
      "                                                                               \n",
      "+-----------------------------------------------------------------------------+\n",
      "| Processes:                                                                  |\n",
      "|  GPU   GI   CI        PID   Type   Process name                  GPU Memory |\n",
      "|        ID   ID                                                   Usage      |\n",
      "|=============================================================================|\n",
      "|  No running processes found                                                 |\n",
      "+-----------------------------------------------------------------------------+\n",
      "nvcc: NVIDIA (R) Cuda compiler driver\n",
      "Copyright (c) 2005-2024 NVIDIA Corporation\n",
      "Built on Tue_Feb_27_16:19:38_PST_2024\n",
      "Cuda compilation tools, release 12.4, V12.4.99\n",
      "Build cuda_12.4.r12.4/compiler.33961263_0\n"
     ]
    }
   ],
   "source": [
    "# Optional for local RTX4090\n",
    "!python3 -m venv .venv\n",
    "!source .venv/bin/activate\n",
    "!nvidia-smi\n",
    "!nvcc --version"
   ]
  },
  {
   "cell_type": "markdown",
   "metadata": {},
   "source": [
    "## Install `torch`"
   ]
  },
  {
   "cell_type": "code",
   "execution_count": 2,
   "metadata": {},
   "outputs": [
    {
     "name": "stdout",
     "output_type": "stream",
     "text": [
      "Defaulting to user installation because normal site-packages is not writeable\n",
      "Requirement already satisfied: torch in /home/katopz/.local/lib/python3.10/site-packages (2.2.2)\n",
      "Requirement already satisfied: torchvision in /home/katopz/.local/lib/python3.10/site-packages (0.17.2)\n",
      "Requirement already satisfied: torchaudio in /home/katopz/.local/lib/python3.10/site-packages (2.2.2)\n",
      "Requirement already satisfied: nvidia-cublas-cu12==12.1.3.1 in /home/katopz/.local/lib/python3.10/site-packages (from torch) (12.1.3.1)\n",
      "Requirement already satisfied: nvidia-cuda-runtime-cu12==12.1.105 in /home/katopz/.local/lib/python3.10/site-packages (from torch) (12.1.105)\n",
      "Requirement already satisfied: nvidia-nvtx-cu12==12.1.105 in /home/katopz/.local/lib/python3.10/site-packages (from torch) (12.1.105)\n",
      "Requirement already satisfied: triton==2.2.0 in /home/katopz/.local/lib/python3.10/site-packages (from torch) (2.2.0)\n",
      "Requirement already satisfied: nvidia-cufft-cu12==11.0.2.54 in /home/katopz/.local/lib/python3.10/site-packages (from torch) (11.0.2.54)\n",
      "Requirement already satisfied: jinja2 in /home/katopz/.local/lib/python3.10/site-packages (from torch) (3.1.2)\n",
      "Requirement already satisfied: filelock in /home/katopz/.local/lib/python3.10/site-packages (from torch) (3.12.4)\n",
      "Requirement already satisfied: nvidia-cusolver-cu12==11.4.5.107 in /home/katopz/.local/lib/python3.10/site-packages (from torch) (11.4.5.107)\n",
      "Requirement already satisfied: sympy in /home/katopz/.local/lib/python3.10/site-packages (from torch) (1.12)\n",
      "Requirement already satisfied: networkx in /home/katopz/.local/lib/python3.10/site-packages (from torch) (3.2)\n",
      "Requirement already satisfied: nvidia-cusparse-cu12==12.1.0.106 in /home/katopz/.local/lib/python3.10/site-packages (from torch) (12.1.0.106)\n",
      "Requirement already satisfied: nvidia-cuda-cupti-cu12==12.1.105 in /home/katopz/.local/lib/python3.10/site-packages (from torch) (12.1.105)\n",
      "Requirement already satisfied: nvidia-cuda-nvrtc-cu12==12.1.105 in /home/katopz/.local/lib/python3.10/site-packages (from torch) (12.1.105)\n",
      "Requirement already satisfied: nvidia-curand-cu12==10.3.2.106 in /home/katopz/.local/lib/python3.10/site-packages (from torch) (10.3.2.106)\n",
      "Requirement already satisfied: nvidia-nccl-cu12==2.19.3 in /home/katopz/.local/lib/python3.10/site-packages (from torch) (2.19.3)\n",
      "Requirement already satisfied: fsspec in /home/katopz/.local/lib/python3.10/site-packages (from torch) (2023.9.2)\n",
      "Requirement already satisfied: typing-extensions>=4.8.0 in /home/katopz/.local/lib/python3.10/site-packages (from torch) (4.9.0)\n",
      "Requirement already satisfied: nvidia-cudnn-cu12==8.9.2.26 in /home/katopz/.local/lib/python3.10/site-packages (from torch) (8.9.2.26)\n",
      "Requirement already satisfied: nvidia-nvjitlink-cu12 in /home/katopz/.local/lib/python3.10/site-packages (from nvidia-cusolver-cu12==11.4.5.107->torch) (12.2.140)\n",
      "Requirement already satisfied: pillow!=8.3.*,>=5.3.0 in /home/katopz/.local/lib/python3.10/site-packages (from torchvision) (10.0.0)\n",
      "Requirement already satisfied: numpy in /home/katopz/.local/lib/python3.10/site-packages (from torchvision) (1.26.3)\n",
      "Requirement already satisfied: MarkupSafe>=2.0 in /home/katopz/.local/lib/python3.10/site-packages (from jinja2->torch) (2.1.3)\n",
      "Requirement already satisfied: mpmath>=0.19 in /home/katopz/.local/lib/python3.10/site-packages (from sympy->torch) (1.3.0)\n"
     ]
    }
   ],
   "source": [
    "!pip3 install -U torch torchvision torchaudio"
   ]
  },
  {
   "cell_type": "markdown",
   "metadata": {},
   "source": [
    "## Install `flash-attn`\n",
    "FYI: This can be fail, see below."
   ]
  },
  {
   "cell_type": "code",
   "execution_count": 7,
   "metadata": {},
   "outputs": [
    {
     "name": "stdout",
     "output_type": "stream",
     "text": [
      "Defaulting to user installation because normal site-packages is not writeable\n",
      "Requirement already satisfied: packaging in /home/katopz/.local/lib/python3.10/site-packages (23.2)\n",
      "Requirement already satisfied: wheel in /usr/lib/python3/dist-packages (0.37.1)\n",
      "Defaulting to user installation because normal site-packages is not writeable\n",
      "Requirement already satisfied: flash-attn in /home/katopz/.local/lib/python3.10/site-packages (2.5.2)\n",
      "Requirement already satisfied: packaging in /home/katopz/.local/lib/python3.10/site-packages (from flash-attn) (23.2)\n",
      "Requirement already satisfied: einops in /home/katopz/.local/lib/python3.10/site-packages (from flash-attn) (0.6.1)\n",
      "Requirement already satisfied: torch in /home/katopz/.local/lib/python3.10/site-packages (from flash-attn) (2.2.2)\n",
      "Requirement already satisfied: ninja in /home/katopz/.local/lib/python3.10/site-packages (from flash-attn) (1.11.1)\n",
      "Requirement already satisfied: sympy in /home/katopz/.local/lib/python3.10/site-packages (from torch->flash-attn) (1.12)\n",
      "Requirement already satisfied: networkx in /home/katopz/.local/lib/python3.10/site-packages (from torch->flash-attn) (3.2)\n",
      "Requirement already satisfied: nvidia-cuda-nvrtc-cu12==12.1.105 in /home/katopz/.local/lib/python3.10/site-packages (from torch->flash-attn) (12.1.105)\n",
      "Requirement already satisfied: nvidia-cuda-runtime-cu12==12.1.105 in /home/katopz/.local/lib/python3.10/site-packages (from torch->flash-attn) (12.1.105)\n",
      "Requirement already satisfied: nvidia-cufft-cu12==11.0.2.54 in /home/katopz/.local/lib/python3.10/site-packages (from torch->flash-attn) (11.0.2.54)\n",
      "Requirement already satisfied: nvidia-cusolver-cu12==11.4.5.107 in /home/katopz/.local/lib/python3.10/site-packages (from torch->flash-attn) (11.4.5.107)\n",
      "Requirement already satisfied: nvidia-cudnn-cu12==8.9.2.26 in /home/katopz/.local/lib/python3.10/site-packages (from torch->flash-attn) (8.9.2.26)\n",
      "Requirement already satisfied: fsspec in /home/katopz/.local/lib/python3.10/site-packages (from torch->flash-attn) (2023.9.2)\n",
      "Requirement already satisfied: nvidia-nccl-cu12==2.19.3 in /home/katopz/.local/lib/python3.10/site-packages (from torch->flash-attn) (2.19.3)\n",
      "Requirement already satisfied: nvidia-nvtx-cu12==12.1.105 in /home/katopz/.local/lib/python3.10/site-packages (from torch->flash-attn) (12.1.105)\n",
      "Requirement already satisfied: triton==2.2.0 in /home/katopz/.local/lib/python3.10/site-packages (from torch->flash-attn) (2.2.0)\n",
      "Requirement already satisfied: nvidia-cusparse-cu12==12.1.0.106 in /home/katopz/.local/lib/python3.10/site-packages (from torch->flash-attn) (12.1.0.106)\n",
      "Requirement already satisfied: nvidia-cuda-cupti-cu12==12.1.105 in /home/katopz/.local/lib/python3.10/site-packages (from torch->flash-attn) (12.1.105)\n",
      "Requirement already satisfied: jinja2 in /home/katopz/.local/lib/python3.10/site-packages (from torch->flash-attn) (3.1.2)\n",
      "Requirement already satisfied: nvidia-curand-cu12==10.3.2.106 in /home/katopz/.local/lib/python3.10/site-packages (from torch->flash-attn) (10.3.2.106)\n",
      "Requirement already satisfied: nvidia-cublas-cu12==12.1.3.1 in /home/katopz/.local/lib/python3.10/site-packages (from torch->flash-attn) (12.1.3.1)\n",
      "Requirement already satisfied: filelock in /home/katopz/.local/lib/python3.10/site-packages (from torch->flash-attn) (3.12.4)\n",
      "Requirement already satisfied: typing-extensions>=4.8.0 in /home/katopz/.local/lib/python3.10/site-packages (from torch->flash-attn) (4.9.0)\n",
      "Requirement already satisfied: nvidia-nvjitlink-cu12 in /home/katopz/.local/lib/python3.10/site-packages (from nvidia-cusolver-cu12==11.4.5.107->torch->flash-attn) (12.2.140)\n",
      "Requirement already satisfied: MarkupSafe>=2.0 in /home/katopz/.local/lib/python3.10/site-packages (from jinja2->torch->flash-attn) (2.1.3)\n",
      "Requirement already satisfied: mpmath>=0.19 in /home/katopz/.local/lib/python3.10/site-packages (from sympy->torch->flash-attn) (1.3.0)\n"
     ]
    }
   ],
   "source": [
    "!pip3 install packaging wheel \n",
    "!FLASH_ATTENTION_FORCE_BUILD=TRUE pip3 install flash-attn --no-input"
   ]
  },
  {
   "cell_type": "markdown",
   "metadata": {},
   "source": [
    "## Optional if you get an error `undefined symbol`\n",
    "ref: https://github.com/Dao-AILab/flash-attention/issues/451#issuecomment-1925566105"
   ]
  },
  {
   "cell_type": "code",
   "execution_count": 9,
   "metadata": {},
   "outputs": [
    {
     "name": "stdout",
     "output_type": "stream",
     "text": [
      "Defaulting to user installation because normal site-packages is not writeable\n",
      "Collecting flash-attn==2.5.2+cu118torch2.0cxx11abiFALSE\n",
      "  Downloading https://github.com/Dao-AILab/flash-attention/releases/download/v2.5.2/flash_attn-2.5.2+cu118torch2.0cxx11abiFALSE-cp310-cp310-linux_x86_64.whl (121.8 MB)\n",
      "\u001b[2K     \u001b[90m━━━━━━━━━━━━━━━━━━━━━━━━━━━━━━━━━━━━━━\u001b[0m \u001b[32m121.8/121.8 MB\u001b[0m \u001b[31m42.9 MB/s\u001b[0m eta \u001b[36m0:00:00\u001b[0m00:01\u001b[0m00:01\u001b[0m\n",
      "\u001b[?25hRequirement already satisfied: einops in /home/katopz/.local/lib/python3.10/site-packages (from flash-attn==2.5.2+cu118torch2.0cxx11abiFALSE) (0.6.1)\n",
      "Requirement already satisfied: torch in /home/katopz/.local/lib/python3.10/site-packages (from flash-attn==2.5.2+cu118torch2.0cxx11abiFALSE) (2.2.2)\n",
      "Requirement already satisfied: packaging in /home/katopz/.local/lib/python3.10/site-packages (from flash-attn==2.5.2+cu118torch2.0cxx11abiFALSE) (23.2)\n",
      "Requirement already satisfied: ninja in /home/katopz/.local/lib/python3.10/site-packages (from flash-attn==2.5.2+cu118torch2.0cxx11abiFALSE) (1.11.1)\n",
      "Requirement already satisfied: nvidia-cudnn-cu12==8.9.2.26 in /home/katopz/.local/lib/python3.10/site-packages (from torch->flash-attn==2.5.2+cu118torch2.0cxx11abiFALSE) (8.9.2.26)\n",
      "Requirement already satisfied: nvidia-cusolver-cu12==11.4.5.107 in /home/katopz/.local/lib/python3.10/site-packages (from torch->flash-attn==2.5.2+cu118torch2.0cxx11abiFALSE) (11.4.5.107)\n",
      "Requirement already satisfied: nvidia-cuda-cupti-cu12==12.1.105 in /home/katopz/.local/lib/python3.10/site-packages (from torch->flash-attn==2.5.2+cu118torch2.0cxx11abiFALSE) (12.1.105)\n",
      "Requirement already satisfied: nvidia-nccl-cu12==2.19.3 in /home/katopz/.local/lib/python3.10/site-packages (from torch->flash-attn==2.5.2+cu118torch2.0cxx11abiFALSE) (2.19.3)\n",
      "Requirement already satisfied: sympy in /home/katopz/.local/lib/python3.10/site-packages (from torch->flash-attn==2.5.2+cu118torch2.0cxx11abiFALSE) (1.12)\n",
      "Requirement already satisfied: fsspec in /home/katopz/.local/lib/python3.10/site-packages (from torch->flash-attn==2.5.2+cu118torch2.0cxx11abiFALSE) (2023.9.2)\n",
      "Requirement already satisfied: networkx in /home/katopz/.local/lib/python3.10/site-packages (from torch->flash-attn==2.5.2+cu118torch2.0cxx11abiFALSE) (3.2)\n",
      "Requirement already satisfied: filelock in /home/katopz/.local/lib/python3.10/site-packages (from torch->flash-attn==2.5.2+cu118torch2.0cxx11abiFALSE) (3.12.4)\n",
      "Requirement already satisfied: nvidia-nvtx-cu12==12.1.105 in /home/katopz/.local/lib/python3.10/site-packages (from torch->flash-attn==2.5.2+cu118torch2.0cxx11abiFALSE) (12.1.105)\n",
      "Requirement already satisfied: nvidia-cuda-runtime-cu12==12.1.105 in /home/katopz/.local/lib/python3.10/site-packages (from torch->flash-attn==2.5.2+cu118torch2.0cxx11abiFALSE) (12.1.105)\n",
      "Requirement already satisfied: nvidia-cufft-cu12==11.0.2.54 in /home/katopz/.local/lib/python3.10/site-packages (from torch->flash-attn==2.5.2+cu118torch2.0cxx11abiFALSE) (11.0.2.54)\n",
      "Requirement already satisfied: nvidia-cublas-cu12==12.1.3.1 in /home/katopz/.local/lib/python3.10/site-packages (from torch->flash-attn==2.5.2+cu118torch2.0cxx11abiFALSE) (12.1.3.1)\n",
      "Requirement already satisfied: triton==2.2.0 in /home/katopz/.local/lib/python3.10/site-packages (from torch->flash-attn==2.5.2+cu118torch2.0cxx11abiFALSE) (2.2.0)\n",
      "Requirement already satisfied: jinja2 in /home/katopz/.local/lib/python3.10/site-packages (from torch->flash-attn==2.5.2+cu118torch2.0cxx11abiFALSE) (3.1.2)\n",
      "Requirement already satisfied: nvidia-cuda-nvrtc-cu12==12.1.105 in /home/katopz/.local/lib/python3.10/site-packages (from torch->flash-attn==2.5.2+cu118torch2.0cxx11abiFALSE) (12.1.105)\n",
      "Requirement already satisfied: nvidia-curand-cu12==10.3.2.106 in /home/katopz/.local/lib/python3.10/site-packages (from torch->flash-attn==2.5.2+cu118torch2.0cxx11abiFALSE) (10.3.2.106)\n",
      "Requirement already satisfied: typing-extensions>=4.8.0 in /home/katopz/.local/lib/python3.10/site-packages (from torch->flash-attn==2.5.2+cu118torch2.0cxx11abiFALSE) (4.9.0)\n",
      "Requirement already satisfied: nvidia-cusparse-cu12==12.1.0.106 in /home/katopz/.local/lib/python3.10/site-packages (from torch->flash-attn==2.5.2+cu118torch2.0cxx11abiFALSE) (12.1.0.106)\n",
      "Requirement already satisfied: nvidia-nvjitlink-cu12 in /home/katopz/.local/lib/python3.10/site-packages (from nvidia-cusolver-cu12==11.4.5.107->torch->flash-attn==2.5.2+cu118torch2.0cxx11abiFALSE) (12.2.140)\n",
      "Requirement already satisfied: MarkupSafe>=2.0 in /home/katopz/.local/lib/python3.10/site-packages (from jinja2->torch->flash-attn==2.5.2+cu118torch2.0cxx11abiFALSE) (2.1.3)\n",
      "Requirement already satisfied: mpmath>=0.19 in /home/katopz/.local/lib/python3.10/site-packages (from sympy->torch->flash-attn==2.5.2+cu118torch2.0cxx11abiFALSE) (1.3.0)\n",
      "Installing collected packages: flash-attn\n",
      "Successfully installed flash-attn-2.5.2\n",
      "Found existing installation: flash-attn 2.5.2\n",
      "Uninstalling flash-attn-2.5.2:\n",
      "  Successfully uninstalled flash-attn-2.5.2\n",
      "Defaulting to user installation because normal site-packages is not writeable\n",
      "Collecting flash-attn\n",
      "  Using cached flash_attn-2.5.6.tar.gz (2.5 MB)\n",
      "  Preparing metadata (setup.py) ... \u001b[?25ldone\n",
      "\u001b[?25hRequirement already satisfied: einops in /home/katopz/.local/lib/python3.10/site-packages (from flash-attn) (0.6.1)\n",
      "Requirement already satisfied: ninja in /home/katopz/.local/lib/python3.10/site-packages (from flash-attn) (1.11.1)\n",
      "Requirement already satisfied: packaging in /home/katopz/.local/lib/python3.10/site-packages (from flash-attn) (23.2)\n",
      "Requirement already satisfied: torch in /home/katopz/.local/lib/python3.10/site-packages (from flash-attn) (2.2.2)\n",
      "Requirement already satisfied: nvidia-nvtx-cu12==12.1.105 in /home/katopz/.local/lib/python3.10/site-packages (from torch->flash-attn) (12.1.105)\n",
      "Requirement already satisfied: nvidia-cudnn-cu12==8.9.2.26 in /home/katopz/.local/lib/python3.10/site-packages (from torch->flash-attn) (8.9.2.26)\n",
      "Requirement already satisfied: filelock in /home/katopz/.local/lib/python3.10/site-packages (from torch->flash-attn) (3.12.4)\n",
      "Requirement already satisfied: sympy in /home/katopz/.local/lib/python3.10/site-packages (from torch->flash-attn) (1.12)\n",
      "Requirement already satisfied: networkx in /home/katopz/.local/lib/python3.10/site-packages (from torch->flash-attn) (3.2)\n",
      "Requirement already satisfied: nvidia-cusparse-cu12==12.1.0.106 in /home/katopz/.local/lib/python3.10/site-packages (from torch->flash-attn) (12.1.0.106)\n",
      "Requirement already satisfied: jinja2 in /home/katopz/.local/lib/python3.10/site-packages (from torch->flash-attn) (3.1.2)\n",
      "Requirement already satisfied: nvidia-curand-cu12==10.3.2.106 in /home/katopz/.local/lib/python3.10/site-packages (from torch->flash-attn) (10.3.2.106)\n",
      "Requirement already satisfied: nvidia-cublas-cu12==12.1.3.1 in /home/katopz/.local/lib/python3.10/site-packages (from torch->flash-attn) (12.1.3.1)\n",
      "Requirement already satisfied: triton==2.2.0 in /home/katopz/.local/lib/python3.10/site-packages (from torch->flash-attn) (2.2.0)\n",
      "Requirement already satisfied: nvidia-cusolver-cu12==11.4.5.107 in /home/katopz/.local/lib/python3.10/site-packages (from torch->flash-attn) (11.4.5.107)\n",
      "Requirement already satisfied: nvidia-cuda-runtime-cu12==12.1.105 in /home/katopz/.local/lib/python3.10/site-packages (from torch->flash-attn) (12.1.105)\n",
      "Requirement already satisfied: typing-extensions>=4.8.0 in /home/katopz/.local/lib/python3.10/site-packages (from torch->flash-attn) (4.9.0)\n",
      "Requirement already satisfied: nvidia-nccl-cu12==2.19.3 in /home/katopz/.local/lib/python3.10/site-packages (from torch->flash-attn) (2.19.3)\n",
      "Requirement already satisfied: nvidia-cuda-cupti-cu12==12.1.105 in /home/katopz/.local/lib/python3.10/site-packages (from torch->flash-attn) (12.1.105)\n",
      "Requirement already satisfied: fsspec in /home/katopz/.local/lib/python3.10/site-packages (from torch->flash-attn) (2023.9.2)\n",
      "Requirement already satisfied: nvidia-cuda-nvrtc-cu12==12.1.105 in /home/katopz/.local/lib/python3.10/site-packages (from torch->flash-attn) (12.1.105)\n",
      "Requirement already satisfied: nvidia-cufft-cu12==11.0.2.54 in /home/katopz/.local/lib/python3.10/site-packages (from torch->flash-attn) (11.0.2.54)\n",
      "Requirement already satisfied: nvidia-nvjitlink-cu12 in /home/katopz/.local/lib/python3.10/site-packages (from nvidia-cusolver-cu12==11.4.5.107->torch->flash-attn) (12.2.140)\n",
      "Requirement already satisfied: MarkupSafe>=2.0 in /home/katopz/.local/lib/python3.10/site-packages (from jinja2->torch->flash-attn) (2.1.3)\n",
      "Requirement already satisfied: mpmath>=0.19 in /home/katopz/.local/lib/python3.10/site-packages (from sympy->torch->flash-attn) (1.3.0)\n",
      "Building wheels for collected packages: flash-attn\n",
      "  Building wheel for flash-attn (setup.py) ... \u001b[?25ldone\n",
      "\u001b[?25h  Created wheel for flash-attn: filename=flash_attn-2.5.6-cp310-cp310-linux_x86_64.whl size=120592258 sha256=d8cf54adda65f59820221d329d274e124972d7fdc05ab3b1130253c64eee6c8a\n",
      "  Stored in directory: /home/katopz/.cache/pip/wheels/a8/1c/88/b959d6818b98a46d61ba231683abb7523b89ac1a7ed1e0c206\n",
      "Successfully built flash-attn\n",
      "Installing collected packages: flash-attn\n",
      "Successfully installed flash-attn-2.5.6\n"
     ]
    }
   ],
   "source": [
    "!pip install https://github.com/Dao-AILab/flash-attention/releases/download/v2.5.2/flash_attn-2.5.2+cu118torch2.0cxx11abiFALSE-cp310-cp310-linux_x86_64.whl\n",
    "!pip uninstall flash-attn --yes\n",
    "!pip install flash-attn --no-input"
   ]
  },
  {
   "cell_type": "code",
   "execution_count": 2,
   "metadata": {},
   "outputs": [
    {
     "data": {
      "application/vnd.jupyter.widget-view+json": {
       "model_id": "532f299482a94268ac8d806146dbb788",
       "version_major": 2,
       "version_minor": 0
      },
      "text/plain": [
       "Loading checkpoint shards:   0%|          | 0/4 [00:00<?, ?it/s]"
      ]
     },
     "metadata": {},
     "output_type": "display_data"
    },
    {
     "name": "stderr",
     "output_type": "stream",
     "text": [
      "Special tokens have been added in the vocabulary, make sure the associated word embeddings are fine-tuned or trained.\n",
      "\n",
      "No chat template is defined for this tokenizer - using the default template for the LlamaTokenizerFast class. If the default is not appropriate for your model, please set `tokenizer.chat_template` to an appropriate template. See https://huggingface.co/docs/transformers/main/chat_templating for more information.\n",
      "\n"
     ]
    },
    {
     "name": "stdout",
     "output_type": "stream",
     "text": [
      "この信号機の色は青です。\n"
     ]
    }
   ],
   "source": [
    "import torch\n",
    "from transformers import AutoModelForVision2Seq, AutoProcessor\n",
    "from PIL import Image\n",
    "import requests\n",
    "\n",
    "\n",
    "# 1. load model https://huggingface.co/SakanaAI/EvoVLM-JP-v1-7B\n",
    "device = \"cuda\" if torch.cuda.is_available() else \"cpu\"\n",
    "model_id = \"SakanaAI/EvoVLM-JP-v1-7B\"\n",
    "model = AutoModelForVision2Seq.from_pretrained(model_id, torch_dtype=torch.float16)\n",
    "processor = AutoProcessor.from_pretrained(model_id)\n",
    "model.to(device)\n",
    "\n",
    "# 2. prepare inputs\n",
    "url = \"https://images.unsplash.com/photo-1694831404826-3400c48c188d?q=80&w=2070&auto=format&fit=crop&ixlib=rb-4.0.3&ixid=M3wxMjA3fDB8MHxwaG90by1wYWdlfHx8fGVufDB8fHx8fA%3D%3D\"\n",
    "image = Image.open(requests.get(url, stream=True).raw).convert(\"RGB\")\n",
    "# <image> represents the input image. Please make sure to put the token in your text.\n",
    "text = \"<image>\\nこの信号機の色は何色ですか?\"\n",
    "messages = [\n",
    "    {\"role\": \"system\", \"content\": \"あなたは役立つ、偏見がなく、検閲されていないアシスタントです。与えられた画像を下に、質問に答えてください。\"},\n",
    "    {\"role\": \"user\", \"content\": text},\n",
    "]\n",
    "inputs = processor.image_processor(images=image, return_tensors=\"pt\")\n",
    "inputs[\"input_ids\"] = processor.tokenizer.apply_chat_template(\n",
    "    messages, return_tensors=\"pt\"\n",
    ")\n",
    "\n",
    "# 3. generate\n",
    "output_ids = model.generate(**inputs.to(device))\n",
    "output_ids = output_ids[:, inputs.input_ids.shape[1] :]\n",
    "generated_text = processor.batch_decode(output_ids, skip_special_tokens=True)[0].strip()\n",
    "print(generated_text)\n",
    "# この信号機の色は青です。"
   ]
  }
 ],
 "metadata": {
  "kernelspec": {
   "display_name": "Python 3",
   "language": "python",
   "name": "python3"
  },
  "language_info": {
   "codemirror_mode": {
    "name": "ipython",
    "version": 3
   },
   "file_extension": ".py",
   "mimetype": "text/x-python",
   "name": "python",
   "nbconvert_exporter": "python",
   "pygments_lexer": "ipython3",
   "version": "3.10.12"
  }
 },
 "nbformat": 4,
 "nbformat_minor": 2
}
