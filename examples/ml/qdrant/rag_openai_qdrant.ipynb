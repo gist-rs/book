{
  "cells": [
    {
      "cell_type": "markdown",
      "id": "be881a6d",
      "metadata": {
        "collapsed": true,
        "id": "be881a6d",
        "jupyter": {
          "outputs_hidden": true
        }
      },
      "source": [
        "# Retrieval Augmented Generation (RAG) with OpenAI and Qdrant\n",
        "\n",
        "In the ever-evolving landscape of AI, the consistency and reliability of Large Language Models (LLMs) remain a challenge. While these models can understand statistical relationships between words, they often fail to provide accurate factual responses. Because their internal knowledge may not be accurate, outputs can range from spot-on to nonsensical. Retrieval Augmented Generation (RAG) is a framework designed to bolster the accuracy of LLMs by grounding them in external knowledge bases. In this example, we'll demonstrate a streamlined  implementation of the RAG pipeline using only Qdrant and OpenAI SDKs. By harnessing Flag embedding's power, we can bypass additional frameworks' overhead.\n",
        "    \n",
        "This example assumes you understand the architecture necessary to carry out RAG. If this is new to you, please look at some introductory readings:\n",
        "* [Retrieval-Augmented Generation: To add knowledge](https://eugeneyan.com/writing/llm-patterns/#retrieval-augmented-generation-to-add-knowledge)"
      ]
    },
    {
      "cell_type": "markdown",
      "id": "bb044259",
      "metadata": {
        "id": "bb044259"
      },
      "source": [
        "## Prerequisites\n",
        "\n",
        "Let's start setting up all the pieces to implement the RAG pipeline. We will only use Qdrant and OpenAI SDKs, without any third-party libraries.\n",
        "\n",
        "### Preparing the environment\n",
        "\n",
        "We need just a few dependencies to implement the whole application, so let's start with installing the dependencies."
      ]
    },
    {
      "cell_type": "code",
      "execution_count": 22,
      "id": "4ce9f81b",
      "metadata": {
        "ExecuteTime": {
          "end_time": "2023-09-27T10:06:32.977456Z",
          "start_time": "2023-09-27T10:06:30.203757Z"
        },
        "colab": {
          "base_uri": "https://localhost:8080/",
          "height": 1000
        },
        "id": "4ce9f81b",
        "outputId": "29ed3ac4-8a22-41b3-e0f6-f247fc439b44",
        "scrolled": true
      },
      "outputs": [
        {
          "name": "stdout",
          "output_type": "stream",
          "text": [
            "huggingface/tokenizers: The current process just got forked, after parallelism has already been used. Disabling parallelism to avoid deadlocks...\n",
            "To disable this warning, you can either:\n",
            "\t- Avoid using `tokenizers` before the fork if possible\n",
            "\t- Explicitly set the environment variable TOKENIZERS_PARALLELISM=(true | false)\n"
          ]
        },
        {
          "name": "stdout",
          "output_type": "stream",
          "text": [
            "Defaulting to user installation because normal site-packages is not writeable\n",
            "Requirement already satisfied: cohere in /home/katopz/.local/lib/python3.10/site-packages (4.40)\n",
            "Requirement already satisfied: tiktoken in /home/katopz/.local/lib/python3.10/site-packages (0.5.1)\n",
            "Requirement already satisfied: protobuf==3.20.3 in /home/katopz/.local/lib/python3.10/site-packages (3.20.3)\n",
            "Requirement already satisfied: typing-extensions==4.5.0 in /home/katopz/.local/lib/python3.10/site-packages (4.5.0)\n",
            "Requirement already satisfied: qdrant-client in /home/katopz/.local/lib/python3.10/site-packages (1.7.0)\n",
            "Requirement already satisfied: fastembed in /home/katopz/.local/lib/python3.10/site-packages (0.1.1)\n",
            "Requirement already satisfied: openai in /home/katopz/.local/lib/python3.10/site-packages (1.5.0)\n",
            "Requirement already satisfied: requests<3.0.0,>=2.25.0 in /home/katopz/.local/lib/python3.10/site-packages (from cohere) (2.31.0)\n",
            "Requirement already satisfied: fastavro<2.0,>=1.8 in /home/katopz/.local/lib/python3.10/site-packages (from cohere) (1.9.2)\n",
            "Requirement already satisfied: urllib3<3,>=1.26 in /home/katopz/.local/lib/python3.10/site-packages (from cohere) (1.26.18)\n",
            "Requirement already satisfied: importlib_metadata<7.0,>=6.0 in /home/katopz/.local/lib/python3.10/site-packages (from cohere) (6.11.0)\n",
            "Requirement already satisfied: backoff<3.0,>=2.0 in /home/katopz/.local/lib/python3.10/site-packages (from cohere) (2.2.1)\n",
            "Requirement already satisfied: aiohttp<4.0,>=3.0 in /home/katopz/.local/lib/python3.10/site-packages (from cohere) (3.9.1)\n",
            "Requirement already satisfied: regex>=2022.1.18 in /home/katopz/.local/lib/python3.10/site-packages (from tiktoken) (2023.8.8)\n",
            "Requirement already satisfied: portalocker<3.0.0,>=2.7.0 in /home/katopz/.local/lib/python3.10/site-packages (from qdrant-client) (2.8.2)\n",
            "Requirement already satisfied: pydantic>=1.10.8 in /home/katopz/.local/lib/python3.10/site-packages (from qdrant-client) (1.10.11)\n",
            "Requirement already satisfied: grpcio>=1.41.0 in /home/katopz/.local/lib/python3.10/site-packages (from qdrant-client) (1.60.0)\n",
            "Requirement already satisfied: httpx[http2]>=0.14.0 in /home/katopz/.local/lib/python3.10/site-packages (from qdrant-client) (0.25.0)\n",
            "Requirement already satisfied: numpy>=1.21 in /home/katopz/.local/lib/python3.10/site-packages (from qdrant-client) (1.26.1)\n",
            "Requirement already satisfied: grpcio-tools>=1.41.0 in /home/katopz/.local/lib/python3.10/site-packages (from qdrant-client) (1.48.2)\n",
            "Requirement already satisfied: onnxruntime<2.0,>=1.15 in /home/katopz/.local/lib/python3.10/site-packages (from fastembed) (1.16.3)\n",
            "Requirement already satisfied: tokenizers<0.14,>=0.13 in /home/katopz/.local/lib/python3.10/site-packages (from fastembed) (0.13.3)\n",
            "Requirement already satisfied: onnx<2.0,>=1.11 in /home/katopz/.local/lib/python3.10/site-packages (from fastembed) (1.15.0)\n",
            "Requirement already satisfied: tqdm<5.0,>=4.65 in /home/katopz/.local/lib/python3.10/site-packages (from fastembed) (4.65.0)\n",
            "Requirement already satisfied: anyio<5,>=3.5.0 in /home/katopz/.local/lib/python3.10/site-packages (from openai) (3.7.1)\n",
            "Requirement already satisfied: distro<2,>=1.7.0 in /usr/lib/python3/dist-packages (from openai) (1.7.0)\n",
            "Requirement already satisfied: sniffio in /home/katopz/.local/lib/python3.10/site-packages (from openai) (1.3.0)\n",
            "Requirement already satisfied: frozenlist>=1.1.1 in /home/katopz/.local/lib/python3.10/site-packages (from aiohttp<4.0,>=3.0->cohere) (1.4.0)\n",
            "Requirement already satisfied: async-timeout<5.0,>=4.0 in /home/katopz/.local/lib/python3.10/site-packages (from aiohttp<4.0,>=3.0->cohere) (4.0.3)\n",
            "Requirement already satisfied: attrs>=17.3.0 in /home/katopz/.local/lib/python3.10/site-packages (from aiohttp<4.0,>=3.0->cohere) (23.1.0)\n",
            "Requirement already satisfied: aiosignal>=1.1.2 in /home/katopz/.local/lib/python3.10/site-packages (from aiohttp<4.0,>=3.0->cohere) (1.3.1)\n",
            "Requirement already satisfied: yarl<2.0,>=1.0 in /home/katopz/.local/lib/python3.10/site-packages (from aiohttp<4.0,>=3.0->cohere) (1.9.2)\n",
            "Requirement already satisfied: multidict<7.0,>=4.5 in /home/katopz/.local/lib/python3.10/site-packages (from aiohttp<4.0,>=3.0->cohere) (6.0.4)\n",
            "Requirement already satisfied: exceptiongroup in /home/katopz/.local/lib/python3.10/site-packages (from anyio<5,>=3.5.0->openai) (1.1.3)\n",
            "Requirement already satisfied: idna>=2.8 in /home/katopz/.local/lib/python3.10/site-packages (from anyio<5,>=3.5.0->openai) (3.4)\n",
            "Requirement already satisfied: setuptools in /usr/lib/python3/dist-packages (from grpcio-tools>=1.41.0->qdrant-client) (59.6.0)\n",
            "Requirement already satisfied: certifi in /home/katopz/.local/lib/python3.10/site-packages (from httpx[http2]>=0.14.0->qdrant-client) (2023.7.22)\n",
            "Requirement already satisfied: httpcore<0.19.0,>=0.18.0 in /home/katopz/.local/lib/python3.10/site-packages (from httpx[http2]>=0.14.0->qdrant-client) (0.18.0)\n",
            "Requirement already satisfied: h2<5,>=3 in /home/katopz/.local/lib/python3.10/site-packages (from httpx[http2]>=0.14.0->qdrant-client) (4.1.0)\n",
            "Requirement already satisfied: zipp>=0.5 in /usr/lib/python3/dist-packages (from importlib_metadata<7.0,>=6.0->cohere) (1.0.0)\n",
            "Requirement already satisfied: packaging in /home/katopz/.local/lib/python3.10/site-packages (from onnxruntime<2.0,>=1.15->fastembed) (23.1)\n",
            "Requirement already satisfied: coloredlogs in /home/katopz/.local/lib/python3.10/site-packages (from onnxruntime<2.0,>=1.15->fastembed) (15.0.1)\n",
            "Requirement already satisfied: sympy in /home/katopz/.local/lib/python3.10/site-packages (from onnxruntime<2.0,>=1.15->fastembed) (1.12)\n",
            "Requirement already satisfied: flatbuffers in /home/katopz/.local/lib/python3.10/site-packages (from onnxruntime<2.0,>=1.15->fastembed) (23.5.26)\n",
            "Requirement already satisfied: charset-normalizer<4,>=2 in /home/katopz/.local/lib/python3.10/site-packages (from requests<3.0.0,>=2.25.0->cohere) (3.3.0)\n",
            "Requirement already satisfied: hyperframe<7,>=6.0 in /home/katopz/.local/lib/python3.10/site-packages (from h2<5,>=3->httpx[http2]>=0.14.0->qdrant-client) (6.0.1)\n",
            "Requirement already satisfied: hpack<5,>=4.0 in /home/katopz/.local/lib/python3.10/site-packages (from h2<5,>=3->httpx[http2]>=0.14.0->qdrant-client) (4.0.0)\n",
            "Requirement already satisfied: h11<0.15,>=0.13 in /home/katopz/.local/lib/python3.10/site-packages (from httpcore<0.19.0,>=0.18.0->httpx[http2]>=0.14.0->qdrant-client) (0.14.0)\n",
            "Requirement already satisfied: humanfriendly>=9.1 in /home/katopz/.local/lib/python3.10/site-packages (from coloredlogs->onnxruntime<2.0,>=1.15->fastembed) (10.0)\n",
            "Requirement already satisfied: mpmath>=0.19 in /home/katopz/.local/lib/python3.10/site-packages (from sympy->onnxruntime<2.0,>=1.15->fastembed) (1.3.0)\n"
          ]
        }
      ],
      "source": [
        "# To run in Google Colab, need to install these libraries, then restart session\n",
        "!pip install cohere tiktoken protobuf==3.20.3 typing-extensions==4.5.0 qdrant-client fastembed openai"
      ]
    },
    {
      "cell_type": "markdown",
      "id": "aae4382a",
      "metadata": {
        "id": "aae4382a"
      },
      "source": [
        "[Qdrant](https://qdrant.tech) will act as a knowledge base providing the context information for the prompts we'll be sending to the LLM. There are various ways of running Qdrant, but we'll simply use the Docker container."
      ]
    },
    {
      "cell_type": "code",
      "execution_count": 23,
      "id": "e8f4456c",
      "metadata": {
        "ExecuteTime": {
          "end_time": "2023-09-27T10:06:34.283299Z",
          "start_time": "2023-09-27T10:06:32.980517Z"
        },
        "id": "e8f4456c"
      },
      "outputs": [],
      "source": [
        "# Docker\n",
        "# !docker run -p \"6333:6333\" -p \"6334:6334\" --name \"rag-openai-qdrant\" --rm -d qdrant/qdrant:latest"
      ]
    },
    {
      "cell_type": "markdown",
      "id": "a74c7a21",
      "metadata": {
        "id": "a74c7a21"
      },
      "source": [
        "### Creating the collection\n",
        "\n",
        "Qdrant [collection](https://qdrant.tech/documentation/concepts/collections/) is the basic unit of organizing your data. Each collection is a named set of points (vectors with a payload) among which you can search. After connecting to our running Qdrant container, we can check whether we already have some collections."
      ]
    },
    {
      "cell_type": "code",
      "execution_count": 24,
      "id": "2dd8966b",
      "metadata": {
        "ExecuteTime": {
          "end_time": "2023-09-27T10:06:36.242783Z",
          "start_time": "2023-09-27T10:06:34.289290Z"
        },
        "colab": {
          "base_uri": "https://localhost:8080/"
        },
        "id": "2dd8966b",
        "outputId": "c67930a8-7c70-478a-b155-6823ebd955b0"
      },
      "outputs": [
        {
          "data": {
            "text/plain": [
              "CollectionsResponse(collections=[])"
            ]
          },
          "execution_count": 24,
          "metadata": {},
          "output_type": "execute_result"
        }
      ],
      "source": [
        "import qdrant_client\n",
        "\n",
        "# Docker\n",
        "# client = qdrant_client.QdrantClient(\"http://localhost:6333\", prefer_grpc=True)\n",
        "# client.get_collections()\n",
        "\n",
        "# Memory\n",
        "client = qdrant_client.QdrantClient(\":memory:\")\n",
        "client.get_collections()"
      ]
    },
    {
      "cell_type": "code",
      "execution_count": 25,
      "id": "6c87f263",
      "metadata": {},
      "outputs": [],
      "source": [
        "client.set_model(\"intfloat/multilingual-e5-large\")"
      ]
    },
    {
      "cell_type": "code",
      "execution_count": 26,
      "id": "a0818dee",
      "metadata": {},
      "outputs": [
        {
          "data": {
            "text/plain": [
              "True"
            ]
          },
          "execution_count": 26,
          "metadata": {},
          "output_type": "execute_result"
        }
      ],
      "source": [
        "client.recreate_collection(\n",
        "    collection_name=\"knowledge-base\",\n",
        "    vectors_config=client.get_fastembed_vector_params(),\n",
        ")"
      ]
    },
    {
      "cell_type": "markdown",
      "id": "23f54205",
      "metadata": {
        "id": "23f54205"
      },
      "source": [
        "### Building the knowledge base\n",
        "\n",
        "Qdrant will use vector embeddings of our facts to enrich the original prompt with some context. Thus, we need to store the vector embeddings and the texts used to generate them. All our facts will have a JSON payload with a single attribute and look as follows:\n",
        "\n",
        "```json\n",
        "{\n",
        "    \"document\": \"Binary Quantization is a method of reducing the memory usage even up to 40 times!\"\n",
        "}\n",
        "```\n",
        "\n",
        "This structure is required by [FastEmbed](https://qdrant.github.io/fastembed/), a library that simplifies managing the vectors, as you don't have to calculate them on your own. It's also possible to use an existing collection, However, all the code snippets will assume this data structure. Adjust your examples to work with a different schema.\n",
        "\n",
        "FastEmbed will automatically create the collection if it doesn't exist. Knowing that we are set to add our documents to a collection, which we'll call `knowledge-base`."
      ]
    },
    {
      "cell_type": "code",
      "execution_count": 27,
      "id": "af548c07",
      "metadata": {},
      "outputs": [],
      "source": [
        "documents = [\n",
        "        \"Qdrant is a vector database & vector similarity search engine. It deploys as an API service providing search for the nearest high-dimensional vectors. With Qdrant, embeddings or neural network encoders can be turned into full-fledged applications for matching, searching, recommending, and much more!\",\n",
        "        \"Docker helps developers build, share, and run applications anywhere — without tedious environment configuration or management.\",\n",
        "        \"PyTorch is a machine learning framework based on the Torch library, used for applications such as computer vision and natural language processing.\",\n",
        "        \"MySQL is an open-source relational database management system (RDBMS). A relational database organizes data into one or more data tables in which data may be related to each other; these relations help structure the data. SQL is a language that programmers use to create, modify and extract data from the relational database, as well as control user access to the database.\",\n",
        "        \"NGINX is a free, open-source, high-performance HTTP server and reverse proxy, as well as an IMAP/POP3 proxy server. NGINX is known for its high performance, stability, rich feature set, simple configuration, and low resource consumption.\",\n",
        "        \"FastAPI is a modern, fast (high-performance), web framework for building APIs with Python 3.7+ based on standard Python type hints.\",\n",
        "        \"SentenceTransformers is a Python framework for state-of-the-art sentence, text and image embeddings. You can use this framework to compute sentence / text embeddings for more than 100 languages. These embeddings can then be compared e.g. with cosine-similarity to find sentences with a similar meaning. This can be useful for semantic textual similar, semantic search, or paraphrase mining.\",\n",
        "        \"The cron command-line utility is a job scheduler on Unix-like operating systems. Users who set up and maintain software environments use cron to schedule jobs (commands or shell scripts), also known as cron jobs, to run periodically at fixed times, dates, or intervals.\",\n",
        "]"
      ]
    },
    {
      "cell_type": "code",
      "execution_count": 28,
      "id": "43154775",
      "metadata": {
        "ExecuteTime": {
          "end_time": "2023-09-27T10:06:36.692231Z",
          "start_time": "2023-09-27T10:06:36.245915Z"
        },
        "colab": {
          "base_uri": "https://localhost:8080/"
        },
        "id": "43154775",
        "outputId": "4e99e6b8-11fd-4271-ed4d-c26cafcfc294"
      },
      "outputs": [
        {
          "data": {
            "text/plain": [
              "['6c80c3f32a7147c79d2e123f6b83a5e4',\n",
              " 'c48ccf2f89204e62ac61568113438d34',\n",
              " '0955887bca8a47d5a2146f3a0b1170d4',\n",
              " '464c5106c3b5405499512fe61e3747da',\n",
              " 'b6aedadb4f1a403c8971a2675e7406cf',\n",
              " 'fd4670a94f5849af86d3cb5824082dd5',\n",
              " '082d222c75f04c4cb710a6261b2c0076',\n",
              " 'd26819716fd24066adc8a205f8d25208']"
            ]
          },
          "execution_count": 28,
          "metadata": {},
          "output_type": "execute_result"
        }
      ],
      "source": [
        "metadata = [{\"text\": item} for item in documents]\n",
        "\n",
        "client.add(\n",
        "    collection_name=\"knowledge-base\",\n",
        "    documents=documents,\n",
        "    metadata=metadata,\n",
        ")"
      ]
    },
    {
      "cell_type": "markdown",
      "id": "b36bddd6",
      "metadata": {
        "id": "b36bddd6"
      },
      "source": [
        "## Retrieval Augmented Generation\n",
        "\n",
        "RAG changes the way we interact with Large Language Models. We're converting a knowledge-oriented task, in which the model may create a counterfactual answer, into a language-oriented task. The latter expects the model to extract meaningful information and generate an answer. LLMs, when implemented correctly, are supposed to be carrying out language-oriented tasks.\n",
        "\n",
        "The task starts with the original prompt sent by the user. The same prompt is then vectorized and used as a search query for the most relevant facts. Those facts are combined with the original prompt to build a longer prompt containing more information.\n",
        "\n",
        "But let's start simply by asking our question directly."
      ]
    },
    {
      "cell_type": "code",
      "execution_count": 29,
      "id": "ed31ca63",
      "metadata": {
        "ExecuteTime": {
          "end_time": "2023-09-27T10:06:36.695165Z",
          "start_time": "2023-09-27T10:06:36.695150Z"
        },
        "id": "ed31ca63"
      },
      "outputs": [],
      "source": [
        "prompt = \"\"\"\n",
        "What tools should I need to use to build a web service using vector embeddings for search?\n",
        "\"\"\""
      ]
    },
    {
      "cell_type": "markdown",
      "id": "e7d2d7dd",
      "metadata": {
        "id": "e7d2d7dd"
      },
      "source": [
        "Using OpenAI API requires providing the API key. Our example demonstrates setting the `OPENAI_API_KEY` using an environmental variable."
      ]
    },
    {
      "cell_type": "code",
      "execution_count": 30,
      "id": "30e8669e",
      "metadata": {
        "ExecuteTime": {
          "end_time": "2023-09-27T10:06:36.696985Z",
          "start_time": "2023-09-27T10:06:36.696959Z"
        },
        "id": "30e8669e"
      },
      "outputs": [],
      "source": [
        "import os\n",
        "# from google.colab import userdata\n",
        "\n",
        "# Fill the environmental variable with your own Open Router API key\n",
        "# See: https://openrouter.ai/keys\n",
        "os.environ[\"OPENAI_API_KEY\"] = ''"
      ]
    },
    {
      "cell_type": "markdown",
      "id": "7bf5c684",
      "metadata": {
        "id": "7bf5c684"
      },
      "source": [
        "Now we can finally call the completion service."
      ]
    },
    {
      "cell_type": "code",
      "execution_count": 31,
      "id": "d5cdee82",
      "metadata": {
        "ExecuteTime": {
          "end_time": "2023-09-27T10:06:36.700541Z",
          "start_time": "2023-09-27T10:06:36.700518Z"
        },
        "colab": {
          "base_uri": "https://localhost:8080/"
        },
        "id": "d5cdee82",
        "outputId": "b51ca3e7-2fc7-435c-d50b-eb57a49ee920"
      },
      "outputs": [
        {
          "name": "stdout",
          "output_type": "stream",
          "text": [
            "[Choice(finish_reason=None, index=None, logprobs=None, message=ChatCompletionMessage(content=\"To build a web service using vector embeddings for search, you would need the following tools:\\n\\n1. Vector Embedding Model: You will need a pre-trained or trained vector embedding model like Word2Vec or GloVe. This model will be used to convert text into numerical vectors that can be used for search.\\n2. Web Service Framework: You will need a web service framework like Flask or Django to create the web service. This framework will help you create the API endpoints and handle requests and responses.\\n3. Search Engine: You will need a search engine like Elasticsearch or Solr to index and search the documents. This search engine will be used to search the indexed documents based on the user's query.\\n4. Data Storage: You will need a data storage system like MongoDB or PostgreSQL to store the documents. This system will be used to store the indexed documents and retrieve them when needed.\\n5. Deployment Platform: You will need a deployment platform like Heroku or AWS to deploy the web service. This platform will be used to host the web service and make it accessible to users.\\n\\nThese are the basic tools you will need to build a web service using vector embeddings for search. You may also need additional tools depending on your specific requirements.\", role='assistant', function_call=None, tool_calls=None))]\n"
          ]
        }
      ],
      "source": [
        "from openai import AsyncOpenAI\n",
        "\n",
        "openai = AsyncOpenAI()\n",
        "openai.base_url = \"https://openrouter.ai/api/v1\"\n",
        "\n",
        "completion = await openai.chat.completions.create(\n",
        "    model=\"mistralai/mistral-7b-instruct\", # \"gpt-3.5-turbo\" # Cost too much\n",
        "    messages=[\n",
        "        {\"role\": \"user\", \"content\": prompt},\n",
        "    ]\n",
        ")\n",
        "\n",
        "print(completion.choices)"
      ]
    },
    {
      "cell_type": "code",
      "execution_count": 32,
      "id": "b6ucKnJLJguW",
      "metadata": {
        "colab": {
          "base_uri": "https://localhost:8080/"
        },
        "id": "b6ucKnJLJguW",
        "outputId": "b1d48300-a37e-4168-d6cc-ebe3ea40d79d"
      },
      "outputs": [
        {
          "name": "stdout",
          "output_type": "stream",
          "text": [
            "To build a web service using vector embeddings for search, you would need the following tools:\n",
            "\n",
            "1. Vector Embedding Model: You will need a pre-trained or trained vector embedding model like Word2Vec or GloVe. This model will be used to convert text into numerical vectors that can be used for search.\n",
            "2. Web Service Framework: You will need a web service framework like Flask or Django to create the web service. This framework will help you create the API endpoints and handle requests and responses.\n",
            "3. Search Engine: You will need a search engine like Elasticsearch or Solr to index and search the documents. This search engine will be used to search the indexed documents based on the user's query.\n",
            "4. Data Storage: You will need a data storage system like MongoDB or PostgreSQL to store the documents. This system will be used to store the indexed documents and retrieve them when needed.\n",
            "5. Deployment Platform: You will need a deployment platform like Heroku or AWS to deploy the web service. This platform will be used to host the web service and make it accessible to users.\n",
            "\n",
            "These are the basic tools you will need to build a web service using vector embeddings for search. You may also need additional tools depending on your specific requirements.\n"
          ]
        }
      ],
      "source": [
        "print(completion.choices[0].message.content)"
      ]
    },
    {
      "cell_type": "markdown",
      "id": "b420d81d",
      "metadata": {
        "id": "b420d81d"
      },
      "source": [
        "### Extending the prompt\n",
        "\n",
        "Even though the original answer sounds credible, it didn't answer our question correctly. Instead, it gave us a generic description of an application stack. To improve the results, enriching the original prompt with the descriptions of the tools available seems like one of the possibilities. Let's use a semantic knowledge base to augment the prompt with the descriptions of different technologies!"
      ]
    },
    {
      "cell_type": "code",
      "execution_count": 33,
      "id": "ce791ba3",
      "metadata": {
        "ExecuteTime": {
          "end_time": "2023-09-27T10:06:36.702641Z",
          "start_time": "2023-09-27T10:06:36.702619Z"
        },
        "colab": {
          "base_uri": "https://localhost:8080/"
        },
        "id": "ce791ba3",
        "outputId": "02369049-fe1e-4f1a-d548-7b17c33b990e"
      },
      "outputs": [
        {
          "data": {
            "text/plain": [
              "[QueryResponse(id='082d222c75f04c4cb710a6261b2c0076', embedding=None, metadata={'document': 'SentenceTransformers is a Python framework for state-of-the-art sentence, text and image embeddings. You can use this framework to compute sentence / text embeddings for more than 100 languages. These embeddings can then be compared e.g. with cosine-similarity to find sentences with a similar meaning. This can be useful for semantic textual similar, semantic search, or paraphrase mining.', 'text': 'SentenceTransformers is a Python framework for state-of-the-art sentence, text and image embeddings. You can use this framework to compute sentence / text embeddings for more than 100 languages. These embeddings can then be compared e.g. with cosine-similarity to find sentences with a similar meaning. This can be useful for semantic textual similar, semantic search, or paraphrase mining.'}, document='SentenceTransformers is a Python framework for state-of-the-art sentence, text and image embeddings. You can use this framework to compute sentence / text embeddings for more than 100 languages. These embeddings can then be compared e.g. with cosine-similarity to find sentences with a similar meaning. This can be useful for semantic textual similar, semantic search, or paraphrase mining.', score=0.8565947435658007),\n",
              " QueryResponse(id='6c80c3f32a7147c79d2e123f6b83a5e4', embedding=None, metadata={'document': 'Qdrant is a vector database & vector similarity search engine. It deploys as an API service providing search for the nearest high-dimensional vectors. With Qdrant, embeddings or neural network encoders can be turned into full-fledged applications for matching, searching, recommending, and much more!', 'text': 'Qdrant is a vector database & vector similarity search engine. It deploys as an API service providing search for the nearest high-dimensional vectors. With Qdrant, embeddings or neural network encoders can be turned into full-fledged applications for matching, searching, recommending, and much more!'}, document='Qdrant is a vector database & vector similarity search engine. It deploys as an API service providing search for the nearest high-dimensional vectors. With Qdrant, embeddings or neural network encoders can be turned into full-fledged applications for matching, searching, recommending, and much more!', score=0.8512390708432942),\n",
              " QueryResponse(id='b6aedadb4f1a403c8971a2675e7406cf', embedding=None, metadata={'document': 'NGINX is a free, open-source, high-performance HTTP server and reverse proxy, as well as an IMAP/POP3 proxy server. NGINX is known for its high performance, stability, rich feature set, simple configuration, and low resource consumption.', 'text': 'NGINX is a free, open-source, high-performance HTTP server and reverse proxy, as well as an IMAP/POP3 proxy server. NGINX is known for its high performance, stability, rich feature set, simple configuration, and low resource consumption.'}, document='NGINX is a free, open-source, high-performance HTTP server and reverse proxy, as well as an IMAP/POP3 proxy server. NGINX is known for its high performance, stability, rich feature set, simple configuration, and low resource consumption.', score=0.8365151262816293)]"
            ]
          },
          "execution_count": 33,
          "metadata": {},
          "output_type": "execute_result"
        }
      ],
      "source": [
        "results = client.query(\n",
        "    collection_name=\"knowledge-base\",\n",
        "    query_text=prompt,\n",
        "    limit=3,\n",
        ")\n",
        "results"
      ]
    },
    {
      "cell_type": "code",
      "execution_count": 34,
      "id": "f2LSyAcKK9V0",
      "metadata": {
        "colab": {
          "base_uri": "https://localhost:8080/"
        },
        "id": "f2LSyAcKK9V0",
        "outputId": "085f6f95-d6ab-46ef-850c-b329fc12399e"
      },
      "outputs": [
        {
          "data": {
            "text/plain": [
              "['SentenceTransformers is a Python framework for state-of-the-art sentence, text and image embeddings. You can use this framework to compute sentence / text embeddings for more than 100 languages. These embeddings can then be compared e.g. with cosine-similarity to find sentences with a similar meaning. This can be useful for semantic textual similar, semantic search, or paraphrase mining.',\n",
              " 'Qdrant is a vector database & vector similarity search engine. It deploys as an API service providing search for the nearest high-dimensional vectors. With Qdrant, embeddings or neural network encoders can be turned into full-fledged applications for matching, searching, recommending, and much more!',\n",
              " 'NGINX is a free, open-source, high-performance HTTP server and reverse proxy, as well as an IMAP/POP3 proxy server. NGINX is known for its high performance, stability, rich feature set, simple configuration, and low resource consumption.']"
            ]
          },
          "execution_count": 34,
          "metadata": {},
          "output_type": "execute_result"
        }
      ],
      "source": [
        "[result.metadata['document'] for result in results]"
      ]
    },
    {
      "cell_type": "markdown",
      "id": "c6640067",
      "metadata": {
        "id": "c6640067"
      },
      "source": [
        "We used the original prompt to perform a semantic search over the set of tool descriptions. Now we can use these descriptions to augment the prompt and create more context."
      ]
    },
    {
      "cell_type": "code",
      "execution_count": 35,
      "id": "a16d8549",
      "metadata": {
        "colab": {
          "base_uri": "https://localhost:8080/"
        },
        "id": "a16d8549",
        "outputId": "6b538b86-fa68-4768-ae96-7516f7d68355"
      },
      "outputs": [
        {
          "name": "stdout",
          "output_type": "stream",
          "text": [
            "SentenceTransformers is a Python framework for state-of-the-art sentence, text and image embeddings. You can use this framework to compute sentence / text embeddings for more than 100 languages. These embeddings can then be compared e.g. with cosine-similarity to find sentences with a similar meaning. This can be useful for semantic textual similar, semantic search, or paraphrase mining.\n",
            "Qdrant is a vector database & vector similarity search engine. It deploys as an API service providing search for the nearest high-dimensional vectors. With Qdrant, embeddings or neural network encoders can be turned into full-fledged applications for matching, searching, recommending, and much more!\n",
            "NGINX is a free, open-source, high-performance HTTP server and reverse proxy, as well as an IMAP/POP3 proxy server. NGINX is known for its high performance, stability, rich feature set, simple configuration, and low resource consumption.\n"
          ]
        }
      ],
      "source": [
        "context = \"\\n\".join(r.document for r in results)\n",
        "print(context)"
      ]
    },
    {
      "cell_type": "markdown",
      "id": "a2c04a4e",
      "metadata": {
        "id": "a2c04a4e"
      },
      "source": [
        "Finally, let's build a metaprompt, the combination of the assumed role of the LLM, the original question, and the results from our semantic search that will force our LLM to use the provided context.\n",
        "\n",
        "By doing this, we effectively convert the knowledge-oriented task into a language task and hopefully reduce the chances of hallucinations. It also should make the response sound more relevant."
      ]
    },
    {
      "cell_type": "code",
      "execution_count": 36,
      "id": "1fc9a98b",
      "metadata": {
        "colab": {
          "base_uri": "https://localhost:8080/"
        },
        "id": "1fc9a98b",
        "outputId": "d60fbd68-fbc2-451f-e179-c38b8d771fac"
      },
      "outputs": [
        {
          "name": "stdout",
          "output_type": "stream",
          "text": [
            "\n",
            "You are a software architect.\n",
            "Answer the following question using the provided context.\n",
            "If you can't find the answer, do not pretend you know it, but answer \"I don't know\".\n",
            "\n",
            "Question: What tools should I need to use to build a web service using vector embeddings for search?\n",
            "\n",
            "Context:\n",
            "SentenceTransformers is a Python framework for state-of-the-art sentence, text and image embeddings. You can use this framework to compute sentence / text embeddings for more than 100 languages. These embeddings can then be compared e.g. with cosine-similarity to find sentences with a similar meaning. This can be useful for semantic textual similar, semantic search, or paraphrase mining.\n",
            "Qdrant is a vector database & vector similarity search engine. It deploys as an API service providing search for the nearest high-dimensional vectors. With Qdrant, embeddings or neural network encoders can be turned into full-fledged applications for matching, searching, recommending, and much more!\n",
            "NGINX is a free, open-source, high-performance HTTP server and reverse proxy, as well as an IMAP/POP3 proxy server. NGINX is known for its high performance, stability, rich feature set, simple configuration, and low resource consumption.\n",
            "\n",
            "Answer:\n",
            "\n"
          ]
        }
      ],
      "source": [
        "metaprompt = f\"\"\"\n",
        "You are a software architect.\n",
        "Answer the following question using the provided context.\n",
        "If you can't find the answer, do not pretend you know it, but answer \"I don't know\".\n",
        "\n",
        "Question: {prompt.strip()}\n",
        "\n",
        "Context:\n",
        "{context.strip()}\n",
        "\n",
        "Answer:\n",
        "\"\"\"\n",
        "\n",
        "# Look at the full metaprompt\n",
        "print(metaprompt)"
      ]
    },
    {
      "cell_type": "markdown",
      "id": "9f1a7678",
      "metadata": {
        "id": "9f1a7678"
      },
      "source": [
        "Our current prompt is much longer, and we also used a couple of strategies to make the responses even better:\n",
        "\n",
        "1. The LLM has the role of software architect.\n",
        "2. We provide more context to answer the question.\n",
        "3. If the context contains no meaningful information, the model shouldn't make up an answer.\n",
        "\n",
        "Let's find out if that works as expected."
      ]
    },
    {
      "cell_type": "code",
      "execution_count": 37,
      "id": "709b9f38",
      "metadata": {
        "colab": {
          "base_uri": "https://localhost:8080/"
        },
        "id": "709b9f38",
        "outputId": "9ec5ceb1-6119-4f5c-e808-7837438abc93"
      },
      "outputs": [
        {
          "data": {
            "text/plain": [
              "'To build a web service using vector embeddings for search, you will need to use the following tools:\\n\\n1. SentenceTransformers: This is a Python framework that provides pre-trained sentence and text embeddings for more than 100 languages. You can use this framework to compute embeddings for your text data.\\n2. Qdrant: This is a vector database and similarity search engine that can be used to index and search your embeddings. Qdrant provides a simple API for searching the nearest high-dimensional vectors to a given query.\\n3. NGINX: This is an open-source HTTP server and reverse proxy that can be used to host your web service. NGINX is known for its high performance, stability, and simple configuration.\\n\\nOnce you have these tools set up, you can use them together to build a web service that uses vector embeddings for search. You can use SentenceTransformers to compute embeddings for your text data, and then use Qdrant to index and search the embeddings. Finally, you can use NGINX to host your web service and provide a simple API for searching your embeddings.'"
            ]
          },
          "execution_count": 37,
          "metadata": {},
          "output_type": "execute_result"
        }
      ],
      "source": [
        "completion = await openai.chat.completions.create(\n",
        "    model=\"mistralai/mistral-7b-instruct\",\n",
        "    messages=[\n",
        "        {\"role\": \"user\", \"content\": metaprompt},\n",
        "    ],\n",
        "    timeout=10.0,\n",
        ")\n",
        "completion.choices[0].message.content"
      ]
    },
    {
      "cell_type": "markdown",
      "id": "1c4120e1-9899-4caa-b974-51d9b3a485be",
      "metadata": {
        "id": "1c4120e1-9899-4caa-b974-51d9b3a485be"
      },
      "source": [
        "### Testing out the RAG pipeline\n",
        "\n",
        "By leveraging the semantic context we provided our model is doing a better job answering the question. Let's enclose the RAG as a function, so we can call it more easily for different prompts."
      ]
    },
    {
      "cell_type": "code",
      "execution_count": 38,
      "id": "62ed09d1-2c90-4ffc-9f1d-7beb87bab78b",
      "metadata": {
        "id": "62ed09d1-2c90-4ffc-9f1d-7beb87bab78b"
      },
      "outputs": [],
      "source": [
        "async def rag(question: str, n_points: int = 3) -> str:\n",
        "    results = client.query(\n",
        "        collection_name=\"knowledge-base\",\n",
        "        query_text=question,\n",
        "        limit=n_points,\n",
        "    )\n",
        "\n",
        "    context = \"\\n\".join(r.document for r in results)\n",
        "\n",
        "    metaprompt = f\"\"\"\n",
        "    You are a software architect.\n",
        "    Answer the following question using the provided context.\n",
        "    If you can't find the answer, do not pretend you know it, but answer \"I don't know\".\n",
        "\n",
        "    Question: {question.strip()}\n",
        "\n",
        "    Context:\n",
        "    {context.strip()}\n",
        "\n",
        "    Answer:\n",
        "    \"\"\"\n",
        "\n",
        "    completion = await openai.chat.completions.create(\n",
        "        model=\"gpt-3.5-turbo\",\n",
        "        messages=[\n",
        "            {\"role\": \"user\", \"content\": metaprompt},\n",
        "        ],\n",
        "        timeout=10.0,\n",
        "    )\n",
        "    return completion.choices[0].message.content"
      ]
    },
    {
      "cell_type": "markdown",
      "id": "86fecd76-9a0b-4ad1-9097-b1d292a618ac",
      "metadata": {
        "id": "86fecd76-9a0b-4ad1-9097-b1d292a618ac"
      },
      "source": [
        "Now it's easier to ask a broad range of questions."
      ]
    },
    {
      "cell_type": "code",
      "execution_count": 39,
      "id": "aa0fdead-a115-4fcd-88dc-5cc718dc0544",
      "metadata": {
        "colab": {
          "base_uri": "https://localhost:8080/",
          "height": 160
        },
        "id": "aa0fdead-a115-4fcd-88dc-5cc718dc0544",
        "outputId": "f20fc1d7-d918-4fe4-8c28-56abe2057aa2"
      },
      "outputs": [
        {
          "data": {
            "text/plain": [
              "'The stack for a web API using FastAPI, NGINX, and Qdrant can look like the following:\\n\\n1. NGINX as a reverse proxy: NGINX can be used as a reverse proxy server to handle incoming requests and distribute them to multiple instances of the FastAPI application running on different machines or containers. NGINX can also handle load balancing, caching, and SSL termination.\\n\\n2. FastAPI: FastAPI is the web framework for building the API itself. It provides an efficient, high-performance way to handle HTTP requests and responses based on standard Python type hints. FastAPI supports async operations, automatic validation of request data, automatic generation of documentation, and more.\\n\\n3. Qdrant: Qdrant can be used as a vector database and vector similarity search engine to power certain search functionalities of the web API. It can be integrated into the FastAPI application as a separate service or module. Qdrant allows for searching high-dimensional vectors and can be useful for applications that require matching, searching, recommending, and more based on vector data.\\n\\nThis stack can enable the development of a high-performance web API with rich features, scalability, and efficient handling of requests. \\n\\nPlease note that there are several other components that can be part of a web API stack depending on the specific requirements of the application, such as databases, caching layers, message queues, etc. This answer presents a possible stack based on the given context.'"
            ]
          },
          "execution_count": 39,
          "metadata": {},
          "output_type": "execute_result"
        }
      ],
      "source": [
        "await rag(\"What can the stack for a web api look like?\")"
      ]
    },
    {
      "cell_type": "code",
      "execution_count": 40,
      "id": "7324c127-c140-410a-ab19-87a5babce023",
      "metadata": {
        "colab": {
          "base_uri": "https://localhost:8080/",
          "height": 35
        },
        "id": "7324c127-c140-410a-ab19-87a5babce023",
        "outputId": "ab714dfe-c98d-4389-ca23-b9f4421c372a"
      },
      "outputs": [
        {
          "data": {
            "text/plain": [
              "\"I don't know.\""
            ]
          },
          "execution_count": 40,
          "metadata": {},
          "output_type": "execute_result"
        }
      ],
      "source": [
        "await rag(\"Where is the nearest grocery store?\")"
      ]
    },
    {
      "cell_type": "markdown",
      "id": "6fe56730-ed41-42c1-9c33-de3849c60b65",
      "metadata": {
        "id": "6fe56730-ed41-42c1-9c33-de3849c60b65"
      },
      "source": [
        "Our model can now:\n",
        "\n",
        "1. Take advantage of the knowledge in our vector datastore.\n",
        "2. Answer, based on the provided context, that it can not provide an answer.\n",
        "\n",
        "We have just shown a useful mechanism to mitigate the risks of hallucinations in Large Language Models."
      ]
    },
    {
      "cell_type": "markdown",
      "id": "968a3ae6",
      "metadata": {
        "id": "968a3ae6"
      },
      "source": [
        "### Cleaning up the environment\n",
        "\n",
        "If you wish to continue playing with the RAG application we created, don't do the code below. However, it's always good to clean up the environment, so nothing is left dangling. We'll show you how to remove the Qdrant container."
      ]
    },
    {
      "cell_type": "code",
      "execution_count": 41,
      "id": "a0729043",
      "metadata": {
        "ExecuteTime": {
          "end_time": "2023-09-27T10:06:36.704761Z",
          "start_time": "2023-09-27T10:06:36.704742Z"
        },
        "id": "a0729043",
        "outputId": "b5275dd3-628d-42d8-a1ac-a9dbf13511ed"
      },
      "outputs": [],
      "source": [
        "# !docker kill rag-openai-qdrant\n",
        "# !docker rm rag-openai-qdrant"
      ]
    }
  ],
  "metadata": {
    "colab": {
      "provenance": []
    },
    "kernelspec": {
      "display_name": "Python 3 (ipykernel)",
      "language": "python",
      "name": "python3"
    },
    "language_info": {
      "codemirror_mode": {
        "name": "ipython",
        "version": 3
      },
      "file_extension": ".py",
      "mimetype": "text/x-python",
      "name": "python",
      "nbconvert_exporter": "python",
      "pygments_lexer": "ipython3",
      "version": "3.9.6"
    }
  },
  "nbformat": 4,
  "nbformat_minor": 5
}
